{
 "cells": [
  {
   "cell_type": "markdown",
   "metadata": {},
   "source": [
    "## ` > `[`@qwqoro`](https://github.com/qwqoro)`: Welcome! `\n",
    "<br>\n",
    "\n",
    "        // I created this out of interest in the summer of 2019 at the age of 15\n",
    "        // Resources, links and libraries were updated in the spring of 2022"
   ]
  },
  {
   "cell_type": "markdown",
   "metadata": {},
   "source": [
    "<div class=\"alert alert-block alert-info\">\n",
    "<b>Machine Learning level:</b> Script Kiddie\n",
    "</div>"
   ]
  },
  {
   "cell_type": "markdown",
   "metadata": {},
   "source": [
    "# Contents:\n",
    "\n",
    "- <h3><a href=\"#💡-Idea\">💡: Idea</a></h3>\n",
    "    \n",
    "- <h3><a href=\"#📋-Data\">📋: Data</a></h3>\n",
    "- <h3><a href=\"#✨-Preparations\">✨: Preparations</a></h3>\n",
    "\n",
    "    Anatomy of each file format; Making files corrupted\n",
    "    - [Images](#Images): `BMP`,`JPEG`,`PNG`\n",
    "    - [Videos](#Videos): `AVI`\n",
    "    - [Audios](#Audios): `WAV`,`MP3`\n",
    "    - [Executables](#Executables): `PE`\n",
    "    \n",
    "- <h3><a href=\"#🔎-Features\">🔎: Features</a></h3>\n",
    "\n",
    "    Process of feature engineering\n",
    "    - [Thoughts](#Thoughts)\n",
    "    - [Construction](#Construction)\n",
    "    \n",
    "- <h3><a href=\"#🤖-Training\">🤖: Training</a></h3>\n",
    "\n",
    "    - [Random Forest](#Random-Forest)\n",
    "    - [K-Nearest Neighbors](#K-Nearest-Neighbors)\n",
    "    - [CatBoost](#CatBoost)\n",
    "    - [XGBoost](#XGBoost)\n",
    "    - [LightGBM](#LightGBM)\n",
    "- <h3><a href=\"#📊-Comparison\">📊: Comparison</a></h3>\n",
    "- <h3><a href=\"#✍-Testing\">✍: Testing</a></h3>\n",
    "- <h3><a href=\"#📚-Resources\">📚: Resources</a></h3>\n",
    "<br>\n",
    "<br>\n",
    "\n",
    "---"
   ]
  },
  {
   "cell_type": "markdown",
   "metadata": {},
   "source": [
    "# 💡 Idea\n",
    "_[> Back to contents](#Contents:)_\n",
    "<br>\n",
    "\n",
    "Solving CTF tasks led me to corrupted files at some point. When they lack distinctive features, such as signatures, most of the tools identify them as \"`Text files`\" or \"`Data`\", which is not useful at all, to be honest.\n",
    "\n",
    "To proceed, it would be great to know their types, at least. Even though some files might be too broken to be fixed, unless you know the exact file format, which parts are missing and which part you have got before your eyes, I believe that guessing types may still be useful in some cases, e.g. criminal investigations — it might be important to find remains of what used to be evidences and analyze them thoroughly. Thus, my aim is to build models that would guess types of broken files.\n",
    "\n",
    "<br>\n",
    "\n",
    "---"
   ]
  },
  {
   "cell_type": "markdown",
   "metadata": {},
   "source": [
    "# 📋 Data\n",
    "_[> Back to contents](#Contents:)_\n",
    "<br>\n",
    "\n",
    "<div class=\"alert alert-block alert-warning\">\n",
    "⚠️ <b>Every piece of data belongs to its author(s)!</b> ⚠️<br>\n",
    "⚠️ <b>All copyrights belongs to the original owners!</b> ⚠️<br>\n",
    "The sources are listed here and credited in the <a href=\"#📚-Resources\">\"Resources\"</a> section.\n",
    "</div><br>\n",
    "\n",
    "    // I use data for non-commercial purposes, as a hobbyist.\n",
    "    // I do not distribute data.\n",
    "<br>\n",
    "\n",
    "- 🎨 **Images** (Raster)\n",
    "    - (Uncompressed) `BMP`: [General-100 Dataset](http://mmlab.ie.cuhk.edu.hk/projects/FSRCNN.html) `[1]` + random files gathered from the Internet\n",
    "    - (Lossy compression) `JPEG`: [UTKFace: Large Scale Face Dataset](https://susanqq.github.io/UTKFace/) `[2]`\n",
    "    - (Lossless compression) `PNG`: random files gathered from the Internet\n",
    "- 🎬 **Videos**\n",
    "    - `AVI`: [HMDB: A Large Video Database for Human Motion Recognition](http://serre-lab.clps.brown.edu/resource/hmdb-a-large-human-motion-database/) `[3]`\n",
    "- 🎧 **Audios**\n",
    "    - (Uncompressed) `WAV`: [FSDnoisy18k](http://www.eduardofonseca.net/FSDnoisy18k/) `[4]`\n",
    "    - (Lossy compression) `MP3`: [Mozilla Common Voice Dataset](https://commonvoice.mozilla.org/en/datasets)\n",
    "- ⚙️ **Executables**\n",
    "    - Portable Executables: [Microsoft Malware Classification Challenge](https://www.kaggle.com/c/malware-classification/) `[5]`"
   ]
  },
  {
   "cell_type": "code",
   "execution_count": 1,
   "metadata": {},
   "outputs": [
    {
     "name": "stdout",
     "output_type": "stream",
     "text": [
      "1000 files of BMP format \t(Images)\n",
      "1000 files of JPG format \t(Images)\n",
      "1000 files of PNG format \t(Images)\n",
      "3000 files of AVI format \t(Videos)\n",
      "1500 files of WAV format \t(Audios)\n",
      "1500 files of MP3 format \t(Audios)\n",
      "3000 files of PE format \t(Executables)\n",
      "--------------------------------\n",
      "Total number of files:  12000\n"
     ]
    }
   ],
   "source": [
    "# Count files of each file format\n",
    "\n",
    "from os import listdir\n",
    "from os.path import isfile\n",
    "\n",
    "folders = [ \"Images_BMP\", \"Images_JPG\", \"Images_PNG\",\"Videos_AVI\",\"Audios_WAV\",\"Audios_MP3\",\"Executables_PE\" ]\n",
    "total = 0\n",
    "\n",
    "for Type in folders:\n",
    "    path = f\"data/{Type}/\"\n",
    "    Type = Type.split('_')\n",
    "    \n",
    "    files = [ file for file in listdir(path) if isfile(path + file) ]\n",
    "    num = len(files)\n",
    "    total += num\n",
    "    \n",
    "    print(f\"{num} files of {Type[1]} format \\t({Type[0]})\")\n",
    "    \n",
    "\n",
    "print('-' * 32)\n",
    "print(\"Total number of files: \", total)"
   ]
  },
  {
   "attachments": {
    "image.png": {
     "image/png": "[encoded data removed]"
    }
   },
   "cell_type": "markdown",
   "metadata": {},
   "source": [
    "![](attachment:image.png)"
   ]
  },
  {
   "cell_type": "markdown",
   "metadata": {},
   "source": [
    "---"
   ]
  },
  {
   "cell_type": "markdown",
   "metadata": {},
   "source": [
    "# ✨ Preparations\n",
    "_[> Back to contents](#Contents:)_\n",
    "\n",
    "<br>\n",
    "\n",
    "In this part I break down each file format.\n",
    "<br>By that I mean **describe their structure** and then **make them corrupted** to extract features & train models.\n",
    "<br>\n",
    "\n",
    "<div class=\"alert alert-block alert-warning\">\n",
    "⚠️ <b>Every image belongs to its author(s)!</b> ⚠️<br>\n",
    "⚠️ <b>All copyrights belongs to the original owners!</b> ⚠️<br>\n",
    "The sources are listed here and credited in the <a href=\"#📚-Resources\">\"Resources\"</a> section.\n",
    "</div><br>\n",
    "\n",
    "    // I use images for demonstration purposes; I did not make any changes to these images."
   ]
  },
  {
   "cell_type": "code",
   "execution_count": 2,
   "metadata": {},
   "outputs": [],
   "source": [
    "from tqdm import tqdm                    # to display progress\n",
    "from binascii import hexlify             # to view hexadecimal representation of binary data\n",
    "from binascii import unhexlify\n",
    "from re import finditer                  # to find all occurrences of a byte sequence in file"
   ]
  },
  {
   "cell_type": "markdown",
   "metadata": {},
   "source": [
    "## Images\n",
    "- <h3>BMP</h3>"
   ]
  },
  {
   "cell_type": "code",
   "execution_count": 3,
   "metadata": {},
   "outputs": [
    {
     "data": {
      "text/plain": [
       "b'424df208130000000000360000002800000086020000830200000100180000000000bc081300c40e0000c40e000000000000000000001d0c0f1d0c0f1d0c0f1d0c0f1d0c0f1d0c0f1d0c0f1d0c0f1e0d101e0d101e0d101f0e111f0e11200f12200f12200f121f0e111f0e111f0e11200f12200f12211013211013211013221114221114221114221114221114221114221114221114221114221114221114221114221114221114221114221114200f12200f12200f121f0e111f0e111e0d101e0d101e0d101d0c0f1d0c0f1d0c0f1c0b0e1c0b0e1b0a0d1b0a0d1b0a0d1b0a0d1b0a0d1b0a0d1b0a0d1b0a0d1b0a0d1b0a0d1b0a0d1d080b1d080b1d080b1c'"
      ]
     },
     "execution_count": 3,
     "metadata": {},
     "output_type": "execute_result"
    }
   ],
   "source": [
    "hexlify(open(\"data/Images_BMP/0.bmp\", 'rb').read())[:512]"
   ]
  },
  {
   "cell_type": "markdown",
   "metadata": {},
   "source": [
    "Analysis:\n",
    "\n",
    "|HEX|DEC|Meaning|BE/LE|Unit|\n",
    "|-:|:-|:-|:-:|:-:|\n",
    "|424D|66, 77 (\"`BM`\")|signature|(big-endian)||\n",
    "|F2081300|1247474‬|size of file|(little-endian)|bytes|\n",
    "|00000000|0|reserved|||\n",
    "|36000000|**54**|offset to the start of the bitmap data|(little-endian)|bytes|\n",
    "|28000000|40|size of information header|(little-endian)|bytes|\n",
    "|86020000|646|width|(little-endian)|pixels|\n",
    "|83020000|643|height|(little-endian)|pixels|\n",
    "|0100|1|number of planes|(little-endian)||\n",
    "|1800|24 (24bit RGB)|number of bits/pixel|(little-endian)||\n",
    "|00000000|0 (None)|compression type|||\n",
    "|BC081300|1247420|size of image data|(little-endian)|bytes|\n",
    "|C40E0000|3780‬|horizontal resolution|(little-endian)|pixels/meter|\n",
    "|C40E0000|3780|vertical resolution|(little-endian)|pixels/meter|\n",
    "|00000000|0|number of used colors OR zero|||\n",
    "|00000000|0|number of important colors OR zero|||"
   ]
  },
  {
   "cell_type": "code",
   "execution_count": 4,
   "metadata": {},
   "outputs": [
    {
     "name": "stderr",
     "output_type": "stream",
     "text": [
      "file: 100%|▬▬▬▬▬▬▬▬▬▬▬▬▬▬▬▬▬▬▬▬▬▬▬▬▬▬▬▬▬▬▬▬▬▬▬▬▬▬▬▬▬▬▬▬▬▬▬▬▬▬| 1000/1000 [01:01<00:00, 16.31it/s]\n"
     ]
    }
   ],
   "source": [
    "# Remove the first 54 bytes\n",
    "\n",
    "path = \"data/Images_BMP/\"\n",
    "files = [ file for file in listdir(path) if isfile(path + file) ]\n",
    "\n",
    "for file in tqdm(files, desc='file'):\n",
    "    hexfile = open(path + file, \"rb\").read()\n",
    "    newfile = hexfile[54:]\n",
    "    \n",
    "    open(f\"data_edited/{file}\", 'wb').write(newfile)"
   ]
  },
  {
   "cell_type": "markdown",
   "metadata": {},
   "source": [
    "- <h3>JPEG</h3>"
   ]
  },
  {
   "cell_type": "code",
   "execution_count": 5,
   "metadata": {},
   "outputs": [
    {
     "data": {
      "text/plain": [
       "b'ffd8ffe000104a46494600010100000100010000ffdb004300080606070605080707070909080a0c140d0c0b0b0c1912130f141d1a1f1e1d1a1c1c20242e2720222c231c1c2837292c30313434341f27393d38323c2e333432ffdb0043010909090c0b0c180d0d1832211c213232323232323232323232323232323232323232323232323232323232323232323232323232323232323232323232323232ffc00011080a5306b603012200021101031101ffc4001f0000010501010101010100000000000000000102030405060708090a0bffc400b5100002010303020403050504040000017d01020300041105122131410613516107227114328191a10823'"
      ]
     },
     "execution_count": 5,
     "metadata": {},
     "output_type": "execute_result"
    }
   ],
   "source": [
    "hexlify(open(\"data/Images_JPG/0.jpg\", 'rb').read())[:512]"
   ]
  },
  {
   "cell_type": "markdown",
   "metadata": {},
   "source": [
    "JPEG markers:\n",
    "\n",
    "|HEX|Meaning|\n",
    "|-:|:-|\n",
    "|FFD8|start of image|\n",
    "|FFC0|start of frame (baseline DCT-based JPEG)|\n",
    "|FFC1|start of frame (extended DCT-based JPEG)|\n",
    "|FFC2|start of frame (progressive DCT-based JPEG)|\n",
    "|FFC3|start of frame (lossless sequential)|\n",
    "|FFC4|define Huffman table(s)|\n",
    "|FFC5|start of frame (differential sequential DCT-based JPEG)|\n",
    "|FFC6|start of frame (differential progressive DCT-based JPEG)|\n",
    "|FFC7|start of frame (differential lossless sequential)|\n",
    "|FFC9|start of frame (extended sequential DCT, arithmetic coding)|\n",
    "|FFCA|start of frame (progressive DCT-based JPEG, arithmetic coding)|\n",
    "|FFCB|start of frame (lossless sequential, arithmetic coding)|\n",
    "|FFCC|define arithmetic coding|\n",
    "|FFCD|start of frame (differential sequential DCT-based JPEG, arithmetic coding)|\n",
    "|FFCE|start of frame (differential progressive DCT-based JPEG, arithmetic coding)|\n",
    "|FFCF|start of frame (differential lossless sequential, arithmetic coding)|\n",
    "|FFDB|define Quantization table(s)|\n",
    "|FFDD|define restart interval|\n",
    "|FFDA|start of scan|\n",
    "|FFDn|restart (`n` = 0..7)|\n",
    "|FFEn|application-specific (`n` = 0..7)|\n",
    "|FFFE|comment|\n",
    "|FFD9|end of image|"
   ]
  },
  {
   "cell_type": "code",
   "execution_count": 6,
   "metadata": {},
   "outputs": [
    {
     "name": "stderr",
     "output_type": "stream",
     "text": [
      "file: 100%|▬▬▬▬▬▬▬▬▬▬▬▬▬▬▬▬▬▬▬▬▬▬▬▬▬▬▬▬▬▬▬▬▬▬▬▬▬▬▬▬▬▬▬▬▬▬▬▬▬▬| 1000/1000 [00:20<00:00, 49.70it/s]\n"
     ]
    }
   ],
   "source": [
    "# Leave only bytes between SOS (Start Of Scan) and EOI (End Of Image) markers\n",
    "\n",
    "path = \"data/Images_JPG/\"\n",
    "files = [ file for file in listdir(path) if isfile(path + file) ]\n",
    "\n",
    "for file in tqdm(files, desc=\"file\"):\n",
    "    hexfile = open(path + file, 'rb').read()\n",
    "    \n",
    "    SOS = hexfile.find(b\"\\xFF\\xDA\")\n",
    "    EOI = hexfile.find(b\"\\xFF\\xD9\")\n",
    "    \n",
    "    newfile = hexfile[SOS + 4 : EOI]\n",
    "    open(f\"data_edited/{file}\", 'wb').write(newfile)"
   ]
  },
  {
   "cell_type": "markdown",
   "metadata": {},
   "source": [
    "- <h3>PNG</h3>"
   ]
  },
  {
   "cell_type": "code",
   "execution_count": 7,
   "metadata": {},
   "outputs": [
    {
     "data": {
      "text/plain": [
       "b'89504e470d0a1a0a0000000d49484452000000e1000000e108060000003eb3d27a000000097048597300000b1300000b1301009a9c180000381c69545874584d4c3a636f6d2e61646f62652e786d7000000000003c3f787061636b657420626567696e3d22efbbbf222069643d2257354d304d7043656869487a7265537a4e54637a6b633964223f3e0a3c783a786d706d65746120786d6c6e733a783d2261646f62653a6e733a6d6574612f2220783a786d70746b3d2241646f626520584d5020436f726520352e352d633031342037392e3135313438312c20323031332f30332f31332d31323a30393a31352020202020202020223e0a2020203c7264663a'"
      ]
     },
     "execution_count": 7,
     "metadata": {},
     "output_type": "execute_result"
    }
   ],
   "source": [
    "hexlify(open(\"data/Images_PNG/0.png\", 'rb').read())[:512]"
   ]
  },
  {
   "cell_type": "markdown",
   "metadata": {},
   "source": [
    "PNG chunks:\n",
    "\n",
    "||Meaning|\n",
    "|-:|:-|\n",
    "|IHDR|signature|\n",
    "|PLTE|palette|\n",
    "|IDAT|image itself|\n",
    "|IEND|end of image|\n",
    "|bKGD|default background color|\n",
    "|cHRM|chromaticity coordinates|\n",
    "|dSIG|digital signatures|\n",
    "|eXIf|exif metadata|\n",
    "|gAMA|gamma|\n",
    "|hIST|histogram|\n",
    "|iCCP|ICC color profile|\n",
    "|iTXt|keyword and UTF-8 text|\n",
    "|pHYs|intended pixel size (or pixel aspect ratio)|\n",
    "|sBIT|significant bits, color-accuracy|\n",
    "|sPLT|palette if the full range of colors is unavailable|\n",
    "|sRGB|indicates that sRGB color space is used|\n",
    "|sTER|stereo-image indicator|\n",
    "|tEXt|text|\n",
    "|tIME|time of last modification|\n",
    "|tRNS|transparency|\n",
    "|zTXt|compressed text|"
   ]
  },
  {
   "cell_type": "code",
   "execution_count": 8,
   "metadata": {},
   "outputs": [
    {
     "name": "stderr",
     "output_type": "stream",
     "text": [
      "file: 100%|▬▬▬▬▬▬▬▬▬▬▬▬▬▬▬▬▬▬▬▬▬▬▬▬▬▬▬▬▬▬▬▬▬▬▬▬▬▬▬▬▬▬▬▬▬▬▬▬▬▬| 1000/1000 [00:46<00:00, 21.37it/s]\n"
     ]
    }
   ],
   "source": [
    "# Remove everything except the `IDAT` chunk contents\n",
    "\n",
    "path = \"data/Images_PNG/\"\n",
    "files = [ file for file in listdir(path) if isfile(path + file) ]\n",
    "\n",
    "for file in tqdm(files, desc=\"file\"):\n",
    "    hexfile = open(path + file, 'rb').read()\n",
    "    newfile = []\n",
    "    idats = finditer(b\"\\x49\\x44\\x41\\x54\", hexfile)\n",
    "    \n",
    "    for marker in idats:\n",
    "        section_length = int(hexlify(hexfile[marker.start()-4 : marker.start()]), 16)\n",
    "        indexes = (marker.end(), marker.end() + section_length)\n",
    "        newfile.append(hexfile[indexes[0]:indexes[1]])\n",
    "        \n",
    "    open(f\"data_edited/{file}\", 'wb').write(b''.join(newfile))"
   ]
  },
  {
   "cell_type": "markdown",
   "metadata": {},
   "source": [
    "<div class=\"alert alert-block alert-success\" style=\"margin: auto; width: 256px; padding: 16px 32px\">\n",
    "<b>Done: </b> Images ✅\n",
    "</div>"
   ]
  },
  {
   "cell_type": "markdown",
   "metadata": {},
   "source": [
    "## Videos\n",
    "- <h3>AVI</h3>"
   ]
  },
  {
   "cell_type": "code",
   "execution_count": 9,
   "metadata": {},
   "outputs": [
    {
     "data": {
      "text/plain": [
       "b'524946467ed80300415649204c4953540c0100006864726c617669683800000035820000908a010000000000100800004e00000000000000010000009d500000c0010000f0000000000000000000000000000000000000004c495354c00000007374726c7374726838000000766964730000000000000000000000000000000064000000b80b0000000000004e0000009d5000004c1d00000000000000000000c001f000737472662800000028000000c0010000f0000000010018004458353000ec0400000000000000000000000000000000007374726e43000000483a5c48756d616e416374696f6e44425c4d6f74696f6e436c6970735c686d646235315f'"
      ]
     },
     "execution_count": 9,
     "metadata": {},
     "output_type": "execute_result"
    }
   ],
   "source": [
    "hexlify(open(\"data/Videos_AVI/0.avi\", \"rb\").read())[:512]"
   ]
  },
  {
   "cell_type": "markdown",
   "metadata": {},
   "source": [
    "AVI chunks:\n",
    "\n",
    "||Meaning|\n",
    "|-:|:-|\n",
    "|LIST hdrl|header|\n",
    "|LIST movi|actual data|\n",
    "|LIST idx1|indexes|\n",
    "|strh|stream header|\n",
    "|strd|stream-header data|\n",
    "|strf|stream format|\n",
    "|strn|stream name|"
   ]
  },
  {
   "cell_type": "code",
   "execution_count": 10,
   "metadata": {},
   "outputs": [
    {
     "name": "stderr",
     "output_type": "stream",
     "text": [
      "file: 100%|▬▬▬▬▬▬▬▬▬▬▬▬▬▬▬▬▬▬▬▬▬▬▬▬▬▬▬▬▬▬▬▬▬▬▬▬▬▬▬▬▬▬▬▬▬▬▬▬▬▬| 3000/3000 [01:06<00:00, 45.01it/s]\n"
     ]
    }
   ],
   "source": [
    "# Remove everything except the `LIST movi` chunk contents\n",
    "\n",
    "path = \"data/Videos_AVI/\"\n",
    "files = [ file for file in listdir(path) if isfile(path + file) ]\n",
    "\n",
    "for file in tqdm(files, desc=\"file\"):\n",
    "    hexfile = open(path + file, 'rb').read()\n",
    "    newfile = []\n",
    "    lists = finditer(b\"\\x6D\\x6F\\x76\\x69\", hexfile)\n",
    "    \n",
    "    for marker in lists:\n",
    "        indexes = (marker.end()+2, hexfile[marker.end():].find(b\"\\x4C\\x49\\x53\\x54\"))\n",
    "        newfile.append(hexfile[indexes[0]:indexes[1]])\n",
    "        \n",
    "    open(f\"data_edited/{file}\", 'wb').write(b''.join(newfile))"
   ]
  },
  {
   "cell_type": "markdown",
   "metadata": {},
   "source": [
    "<div class=\"alert alert-block alert-success\" style=\"margin: auto; width: 256px; padding: 16px 32px\">\n",
    "<b>Done: </b> Videos ✅\n",
    "</div>"
   ]
  },
  {
   "cell_type": "markdown",
   "metadata": {},
   "source": [
    "## Audios\n",
    "- <h3>WAV</h3>"
   ]
  },
  {
   "cell_type": "code",
   "execution_count": 11,
   "metadata": {},
   "outputs": [
    {
     "data": {
      "text/plain": [
       "b'524946464600270057415645666d7420100000000100010044ac000088580100020010004c4953541a000000494e464f495346540e0000004c61766635362e34302e313031006461746100002700fcff00000100fffffffffefffefffcfffafffefffdfffefffdfffdfffffffcfffdff0000fffffffffdfffcfffefffcfffbfffcfffafffffffdfffbfffdfffcfff8fffbfff7fffafffbfffcfffafff8fffdfff9fff9fff8fffafff7fff9fffefffcfffbfffafffdfffefffefffdfffffffeffffff0100ffff0100fdff01000100fcfffdfffafffdfffbfff9fffcfffafff9fff4fff8fffbfff9fffdfffbfffefffdfffdff020001000000feffffff00000100'"
      ]
     },
     "execution_count": 11,
     "metadata": {},
     "output_type": "execute_result"
    }
   ],
   "source": [
    "hexlify(open(\"data/Audios_WAV/0.wav\", \"rb\").read())[:512]"
   ]
  },
  {
   "attachments": {},
   "cell_type": "markdown",
   "metadata": {},
   "source": [
    "`[6]` [WAV structure](https://www.researchgate.net/figure/Format-of-WAV-document_tbl3_281444376):\n",
    "<img src=\"https://www.researchgate.net/profile/Haviluddin-H/publication/281444376/figure/tbl3/AS:667902516658179@1536251777729/Format-of-WAV-document.png\" style=\"width: 600px; height: auto\" alt=\"WAV structure\"/>\n",
    "\n",
    "WAV chunks:\n",
    "\n",
    "||Meaning|\n",
    "|-:|:-|\n",
    "|fmt|format of the data|\n",
    "|fact|number of samples|\n",
    "|data|data|"
   ]
  },
  {
   "cell_type": "code",
   "execution_count": 12,
   "metadata": {},
   "outputs": [
    {
     "name": "stderr",
     "output_type": "stream",
     "text": [
      "file: 100%|▬▬▬▬▬▬▬▬▬▬▬▬▬▬▬▬▬▬▬▬▬▬▬▬▬▬▬▬▬▬▬▬▬▬▬▬▬▬▬▬▬▬▬▬▬▬▬▬▬▬| 1500/1500 [01:36<00:00, 15.55it/s]\n"
     ]
    }
   ],
   "source": [
    "# Remove everything except the `data` chunk contents\n",
    "\n",
    "path = \"data/Audios_WAV/\"\n",
    "files = [ file for file in listdir(path) if isfile(path + file) ]\n",
    "\n",
    "for file in tqdm(files, desc=\"file\"):\n",
    "    hexfile = open(path + file, 'rb').read()\n",
    "    newfile = []\n",
    "    datas = finditer(b\"\\x64\\x61\\x74\\x61\", hexfile)\n",
    "    \n",
    "    for marker in datas:\n",
    "        section_length = int(hexlify(hexfile[marker.end() : marker.end()+4]), 16)\n",
    "        indexes = (marker.end(), marker.end() + section_length)\n",
    "        newfile.append(hexfile[indexes[0]:indexes[1]])\n",
    "        \n",
    "    open(f\"data_edited/{file}\", 'wb').write(b''.join(newfile))"
   ]
  },
  {
   "cell_type": "markdown",
   "metadata": {},
   "source": [
    "- <h3>MP3</h3>"
   ]
  },
  {
   "cell_type": "code",
   "execution_count": 13,
   "metadata": {},
   "outputs": [
    {
     "data": {
      "text/plain": [
       "b'4944330400000000010454585858000000120000036d616a6f725f6272616e64004d3441200054585858000000110000036d696e6f725f76657273696f6e0030005458585800000020000003636f6d70617469626c655f6272616e6473004d3441206d70343269736f6d00545353450000000f0000034c61766635362e34302e3130310000000000000000000000fffb54c40003c00001a4000000200b004001c000043d531d000084903a06d112100623261482910b9392838dcdc19bbcd3f73a71e274fe01819a6fa23c42a1dffddebbbbe9112bc24f703788870208afffbbbf10910a9a6ffe113c4001000004014425280d2170f350353b5beadef83f8918'"
      ]
     },
     "execution_count": 13,
     "metadata": {},
     "output_type": "execute_result"
    }
   ],
   "source": [
    "hexlify(open(\"data/Audios_MP3/0.mp3\", \"rb\").read())[:512]"
   ]
  },
  {
   "cell_type": "markdown",
   "metadata": {},
   "source": [
    "`[7]`   [MP3 structure](https://commons.wikimedia.org/wiki/File:Mp3filestructure.svg):\n",
    "- License: [Attribution 2.5 Generic](https://creativecommons.org/licenses/by/2.5/deed.en)\n",
    "- Authors: [Original version by Kim Meyrick](https://en.wikipedia.org/wiki/User:Kim_Meyrick) + [Later version by Stannered](https://commons.wikimedia.org/wiki/User:Stannered) + [Current version by Mik](https://commons.wikimedia.org/wiki/User:Mik)\n",
    "\n",
    "    <img src=\"https://upload.wikimedia.org/wikipedia/commons/0/01/Mp3filestructure.svg\" style=\"width: 900px; height: auto\" alt=\"MP3 structure\"/>"
   ]
  },
  {
   "cell_type": "code",
   "execution_count": 14,
   "metadata": {},
   "outputs": [
    {
     "name": "stderr",
     "output_type": "stream",
     "text": [
      "file: 100%|▬▬▬▬▬▬▬▬▬▬▬▬▬▬▬▬▬▬▬▬▬▬▬▬▬▬▬▬▬▬▬▬▬▬▬▬▬▬▬▬▬▬▬▬▬▬▬▬▬▬| 1500/1500 [00:24<00:00, 61.83it/s]\n"
     ]
    }
   ],
   "source": [
    "# Remove everything except the MP3 frames (start with `FFFx`) contents\n",
    "\n",
    "path = \"data/Audios_MP3/\"\n",
    "files = [ file for file in listdir(path) if isfile(path + file) ]\n",
    "\n",
    "for file in tqdm(files, desc=\"file\"):\n",
    "    hexfile = open(path + file, 'rb').read()\n",
    "    newfile = []\n",
    "    frames = list(finditer(b\"\\xFF[\\xF0|\\xF1|\\xF2|\\xF3|\\xF4|\\xF5|\\xF6|\\xF7|\\xFA|\\xFB|\\xFC|\\xFD|\\xFE|\\xFF]\", hexfile))\n",
    "\n",
    "    for marker in range(len(frames)-1):\n",
    "        indexes = (frames[marker].end(), frames[marker+1].start())\n",
    "        newfile.append(hexfile[indexes[0]:indexes[1]])\n",
    "\n",
    "    open(f\"data_edited/{file}\", 'wb').write(b''.join(newfile))"
   ]
  },
  {
   "cell_type": "markdown",
   "metadata": {},
   "source": [
    "<div class=\"alert alert-block alert-success\" style=\"margin: auto; width: 256px; padding: 16px 32px\">\n",
    "<b>Done: </b> Audios ✅\n",
    "</div>"
   ]
  },
  {
   "cell_type": "markdown",
   "metadata": {},
   "source": [
    "## Executables\n",
    "- <h3>PE</h3>"
   ]
  },
  {
   "cell_type": "code",
   "execution_count": 15,
   "metadata": {},
   "outputs": [
    {
     "data": {
      "text/plain": [
       "b'83ec0460bb100000008d4c5b1051b901000000c1e10c51bf000100008dbf000700005731db53ff15346352018d1031c0054c82520131c931c18d89b47dadfe51528b3883c02583e8210fb64c38ff8d743affc60600000e83c7ff85ff75eb5b895b01ffd300fe05bf915101833d2592510101751ae837560100528b542408e8a9e100005ae8abd40000e8a6e100006a00e8a3f200005968089151018b442408a35b915101833d25925101017417833d2592510102740ee8fd530100c6051492510100eb07c6051492510101833d7c1b520100741250a125925101508b44241850ff157c1b5201803d14925101007405e8c453010083c404833d25925101007514'"
      ]
     },
     "execution_count": 15,
     "metadata": {},
     "output_type": "execute_result"
    }
   ],
   "source": [
    "open(\"data/Executables_PE/0.bytes\", 'rb').read().lower()[:512]"
   ]
  },
  {
   "cell_type": "markdown",
   "metadata": {},
   "source": [
    "`[8]`   [PE (x32) structure](https://commons.wikimedia.org/wiki/File:Portable_Executable_32_bit_Structure_in_SVG_fixed.svg):\n",
    "- License: [Attribution 4.0 International](https://creativecommons.org/licenses/by/4.0/deed.en)\n",
    "- Authors: Original version by ByteBiter + [Later version by Benhut1](https://commons.wikimedia.org/wiki/User:Benhut1) + [Current version by Finnusertop](https://commons.wikimedia.org/wiki/User:Finnusertop)\n",
    "\n",
    "    <img src=\"https://upload.wikimedia.org/wikipedia/commons/1/1b/Portable_Executable_32_bit_Structure_in_SVG_fixed.svg\" style=\"height: 800px; width: auto\" alt=\"PE (x32) structure\"/>"
   ]
  },
  {
   "cell_type": "code",
   "execution_count": 16,
   "metadata": {},
   "outputs": [
    {
     "name": "stderr",
     "output_type": "stream",
     "text": [
      "file: 100%|▬▬▬▬▬▬▬▬▬▬▬▬▬▬▬▬▬▬▬▬▬▬▬▬▬▬▬▬▬▬▬▬▬▬▬▬▬▬▬▬▬▬▬▬▬▬▬▬▬▬| 3000/3000 [03:04<00:00, 16.27it/s]\n"
     ]
    }
   ],
   "source": [
    "# All of the files are already sterile\n",
    "\n",
    "path = \"data/Executables_PE/\"\n",
    "files = [ file for file in listdir(path) if isfile(path + file) ]\n",
    "\n",
    "for file in tqdm(files, desc=\"file\"):\n",
    "    hexfile = open(path + file, 'rb').read()\n",
    "    hexfile = unhexlify(hexfile)\n",
    "    \n",
    "    file = file.replace(\"bytes\",\"exe\")\n",
    "    open(f\"data_edited/{file}\", 'wb').write(hexfile)"
   ]
  },
  {
   "cell_type": "markdown",
   "metadata": {},
   "source": [
    "<div class=\"alert alert-block alert-success\" style=\"margin: auto; width: 256px; padding: 16px 32px\">\n",
    "<b>Done: </b> PE & everything ✅\n",
    "</div>"
   ]
  },
  {
   "cell_type": "markdown",
   "metadata": {},
   "source": [
    "---"
   ]
  },
  {
   "cell_type": "markdown",
   "metadata": {},
   "source": [
    "# 🔎 Features\n",
    "_[> Back to contents](#Contents:)_"
   ]
  },
  {
   "cell_type": "markdown",
   "metadata": {},
   "source": [
    "## Thoughts\n",
    "0. file size in bytes\n",
    "1. \\* bytes in file: `all / commonest / rarest`\n",
    "2. \\* bytes in each part of file (file is split into K parts): `all / commonest / rarest`\n",
    "3. \\* N-grams (stride = 1): `commonest / rarest`\n",
    "4. \\* N-grams (stride = N): `commonest / rarest`\n",
    "5. \\* N-grams (stride = 1) in each part of file (file is split into K parts): `commonest / rarest`\n",
    "6. \\* N-grams (stride = N) in each part of file (file is split into K parts): `commonest / rarest`\n",
    "\n",
    "<br>\n",
    "Resulting DataFrames:\n",
    "\n",
    "|idea|number of features|\n",
    "|:-|:-:|\n",
    "|10 most common bytes in each part of file split into 3 parts|30|\n",
    "|20 most common byte 4-grams (stride = 1 byte)|20|\n",
    "|20 most common byte 6-grams (stride = 2 bytes)|20|\n",
    "|20 most common byte 8-grams (stride = 4 bytes)|20|\n",
    "|10 most common byte 4-grams (stride = 1 byte) in each part of file split into 3 parts|30|\n",
    "|10 most common byte 6-grams (stride = 2 bytes) in each part of file split into 3 parts|30|\n",
    "|10 most common byte 8-grams (stride = 4 bytes) in each part of file split into 3 parts|30|\n",
    "\n",
    "**However**:<br>\n",
    "- There are cases when the #1 most popular object is encountered 1000 times in an interval, #2 - 900 times, #3 - only 100 times. That is why it makes sense to rearrange every array of the most popular objects so that it would also depict popularity of each one of its objects among the other objects within it. That is done further with use of a custom `fill` function.<br>\n",
    "<ins>Example</ins>:<br>\n",
    "```\n",
    "top = [(\"1\",1000), (\"2\",900), (\"3\",100), (\"4\",10), (\"5\",9)]\n",
    "// \"1\" → ~50%, \"2\" → ~45%, \"3\" → ~5%, \"4\" → ~0.5%, \"5\" → ~0.45%\n",
    "fill(top, 5) → \"1\", \"1\", \"1\", \"2\", \"2\"\n",
    "fill(top, 10) → \"1\", \"1\", \"1\", \"1\", \"1\", \"2\", \"2\", \"2\", \"2\", \"2\"\n",
    "fill(top, 20) → \"1\", \"1\", \"1\", \"1\", \"1\", \"1\", \"1\", \"1\", \"1\", \"1\", \"2\", \"2\", \"2\", \"2\", \"2\", \"2\", \"2\", \"2\", \"2\", \"3\"\n",
    "```\n",
    "<br>\n",
    "\n",
    "- In a function called `calc` that is introduced later, hexadecimal values of bytes are converted into decimal numbers. That is done because bytes and byte sequences that belong to the same category _(digits, latin alphabet, cyrillic alphabet, special characters, emoji, ...)_ are usually close in numeric value.<br>\n",
    "<ins>Example</ins>:<br>\n",
    "```\n",
    "CEB1 → 52913 → (UTF-8) α; CEB2 → 52914 → (UTF-8) β\n",
    "D0AB → 53419 → (UTF-8) Ы; D0AC → 53420 → (UTF-8) Ь\n",
    "F09FA6BE → 4036994750 → (UTF-8) 🦾; F09FA6BF → 4036994751 → (UTF-8) 🦿\n",
    "F09FAB80 → 4036995968 → (UTF-8) 🫀; F09FAB81 → 4036995969 → (UTF-8) 🫁\n",
    "```"
   ]
  },
  {
   "cell_type": "markdown",
   "metadata": {},
   "source": [
    "## Construction"
   ]
  },
  {
   "cell_type": "code",
   "execution_count": 17,
   "metadata": {},
   "outputs": [],
   "source": [
    "import pandas as pd\n",
    "from math import ceil\n",
    "from collections import Counter"
   ]
  },
  {
   "cell_type": "code",
   "execution_count": 18,
   "metadata": {},
   "outputs": [],
   "source": [
    "# Define names of columns\n",
    "\n",
    "labels = [\"Type\",\"Format\"]\n",
    "\n",
    "NGrams = [f\"top{x}\" for x in range(1,21)]\n",
    "\n",
    "Split  = [f\"top1.{x}\" for x in range(1,11)]\n",
    "Split += [f\"top2.{x}\" for x in range(1,11)]\n",
    "Split += [f\"top3.{x}\" for x in range(1,11)]"
   ]
  },
  {
   "cell_type": "code",
   "execution_count": 19,
   "metadata": {},
   "outputs": [],
   "source": [
    "# Create DataFrames for each case\n",
    "#   // GN → N-Grams\n",
    "#   //  S → file is split into parts\n",
    "\n",
    "S   = pd.DataFrame(columns = labels + Split)\n",
    "G4  = pd.DataFrame(columns = labels + NGrams)\n",
    "G6  = pd.DataFrame(columns = labels + NGrams)\n",
    "G8  = pd.DataFrame(columns = labels + NGrams)\n",
    "G4S = pd.DataFrame(columns = labels + Split)\n",
    "G6S = pd.DataFrame(columns = labels + Split)\n",
    "G8S = pd.DataFrame(columns = labels + Split)"
   ]
  },
  {
   "cell_type": "code",
   "execution_count": 20,
   "metadata": {},
   "outputs": [],
   "source": [
    "# Identify type depending on extension\n",
    "\n",
    "def get_type(frmt):\n",
    "    if frmt in [\"bmp\",\"jpg\",\"png\"]: return \"Image\"\n",
    "    elif     frmt in [\"wav\",\"mp3\"]: return \"Audio\"\n",
    "    elif             frmt == \"avi\": return \"Video\"\n",
    "    elif             frmt == \"exe\": return \"Executable\"\n",
    "    else:                           return  None"
   ]
  },
  {
   "cell_type": "code",
   "execution_count": 21,
   "metadata": {},
   "outputs": [],
   "source": [
    "def get_ngrams(Bytes, params):\n",
    "    N, stride = params[0], params[1]\n",
    "    \n",
    "    return [ ''.join(Bytes[i:i+N]) for i in range(0, len(Bytes)-N+1, stride) ]"
   ]
  },
  {
   "cell_type": "code",
   "execution_count": 22,
   "metadata": {},
   "outputs": [],
   "source": [
    "def fill(top, aimSize):\n",
    "    topNew = []\n",
    "    totalSize = sum([el[1] for el in top])\n",
    "    \n",
    "    for el in top:\n",
    "        importance = ceil(aimSize * el[1]/totalSize)\n",
    "        topNew += [(el[0], 0)] * importance\n",
    "        \n",
    "    return topNew[:aimSize]"
   ]
  },
  {
   "cell_type": "code",
   "execution_count": 23,
   "metadata": {},
   "outputs": [],
   "source": [
    "# Calculate everything according to the idea (`mode`)\n",
    "\n",
    "def calc(Bytes, part1, part2, part3, frmt, mode):\n",
    "    Result = []\n",
    "    \n",
    "    if mode == \"S\":\n",
    "        top1 = Counter(part1).most_common()[:10]\n",
    "        top2 = Counter(part2).most_common()[:10]\n",
    "        top3 = Counter(part3).most_common()[:10]\n",
    "        top1 = sorted(top1, key=lambda el: (el[1], el[0]))[::-1]\n",
    "        top2 = sorted(top2, key=lambda el: (el[1], el[0]))[::-1]\n",
    "        top3 = sorted(top3, key=lambda el: (el[1], el[0]))[::-1]\n",
    "        \n",
    "        top1 = fill(top1, 10)\n",
    "        top2 = fill(top2, 10)\n",
    "        top3 = fill(top3, 10)\n",
    "        \n",
    "        top1 = [ int(Set[0], 16) for Set in top1 ]\n",
    "        top2 = [ int(Set[0], 16) for Set in top2 ]\n",
    "        top3 = [ int(Set[0], 16) for Set in top3 ]\n",
    "        Result = top1 + top2 + top3\n",
    "        \n",
    "        \n",
    "    elif mode in [\"G4\",\"G6\",\"G8\"]:\n",
    "        params = {\"G4\": (4, 1),\n",
    "                  \"G6\": (6, 2),\n",
    "                  \"G8\": (8, 4)}\n",
    "        \n",
    "        ngrams = get_ngrams(Bytes, params[mode])\n",
    "        top = Counter(ngrams).most_common()[:20]\n",
    "        top = sorted(top, key=lambda el: (el[1], el[0]))[::-1]\n",
    "\n",
    "        top = fill(top, 20)\n",
    "            \n",
    "        top = [ int(Set[0], 16) for Set in top ]\n",
    "        Result = top\n",
    "        \n",
    "        \n",
    "    elif mode in [\"G4S\",\"G6S\",\"G8S\"]:\n",
    "        params = {\"G4S\": (4, 1),\n",
    "                  \"G6S\": (6, 2),\n",
    "                  \"G8S\": (8, 4)}\n",
    "        \n",
    "        ngrams1 = get_ngrams(part1, params[mode])\n",
    "        ngrams2 = get_ngrams(part2, params[mode])\n",
    "        ngrams3 = get_ngrams(part3, params[mode])\n",
    "        top1 = Counter(ngrams1).most_common()[:10]\n",
    "        top2 = Counter(ngrams2).most_common()[:10]\n",
    "        top3 = Counter(ngrams3).most_common()[:10]\n",
    "        top1 = sorted(top1, key=lambda el: (el[1], el[0]))[::-1]\n",
    "        top2 = sorted(top2, key=lambda el: (el[1], el[0]))[::-1]\n",
    "        top3 = sorted(top3, key=lambda el: (el[1], el[0]))[::-1]\n",
    "\n",
    "        top1 = fill(top1, 10)\n",
    "        top2 = fill(top2, 10)\n",
    "        top3 = fill(top3, 10)\n",
    "            \n",
    "        top1 = [ int(Set[0], 16) for Set in top1 ]\n",
    "        top2 = [ int(Set[0], 16) for Set in top2 ]\n",
    "        top3 = [ int(Set[0], 16) for Set in top3 ]\n",
    "        Result = top1 + top2 + top3\n",
    "    \n",
    "\n",
    "    return Result"
   ]
  },
  {
   "cell_type": "code",
   "execution_count": 24,
   "metadata": {
    "scrolled": true
   },
   "outputs": [
    {
     "name": "stderr",
     "output_type": "stream",
     "text": [
      "File: 100%|▬▬▬▬▬▬▬▬▬▬▬▬▬▬▬▬▬▬▬▬▬▬▬▬▬▬▬▬▬▬▬▬▬▬▬▬▬▬▬▬▬▬▬▬▬▬▬▬▬▬| 12000/12000 [5:40:06<00:00,  1.70s/it]\n"
     ]
    }
   ],
   "source": [
    "path  = \"data_edited/\"\n",
    "files = [ file for file in listdir(path) if isfile(path + file) ]\n",
    "        \n",
    "for file in tqdm(files, desc='File'):\n",
    "    \n",
    "    frmt    = file.split('.')[1]                                          # format\n",
    "    hexfile = hexlify(open(path + file, 'rb').read()).decode()            # hex representation\n",
    "    Bytes = [ hexfile[i:i+2] for i in range(0, len(hexfile)-1, 2) ]       # \n",
    "    \n",
    "    partSize = len(Bytes) // 3\n",
    "    part1 = Bytes[            :   partSize]\n",
    "    part2 = Bytes[   partSize : 2*partSize]\n",
    "    part3 = Bytes[ 2*partSize :           ]\n",
    "\n",
    "    S   =   S.append( pd.DataFrame([[ get_type(frmt), frmt ] + calc(Bytes, part1, part2, part3, frmt, mode=\"S\"  )], columns = S.columns   ))\n",
    "    G4  =  G4.append( pd.DataFrame([[ get_type(frmt), frmt ] + calc(Bytes, part1, part2, part3, frmt, mode=\"G4\" )], columns = G4.columns  ))\n",
    "    G6  =  G6.append( pd.DataFrame([[ get_type(frmt), frmt ] + calc(Bytes, part1, part2, part3, frmt, mode=\"G6\" )], columns = G6.columns  ))\n",
    "    G8  =  G8.append( pd.DataFrame([[ get_type(frmt), frmt ] + calc(Bytes, part1, part2, part3, frmt, mode=\"G8\" )], columns = G8.columns  ))\n",
    "    G4S = G4S.append( pd.DataFrame([[ get_type(frmt), frmt ] + calc(Bytes, part1, part2, part3, frmt, mode=\"G4S\")], columns = G4S.columns ))\n",
    "    G6S = G6S.append( pd.DataFrame([[ get_type(frmt), frmt ] + calc(Bytes, part1, part2, part3, frmt, mode=\"G6S\")], columns = G6S.columns )) \n",
    "    G8S = G8S.append( pd.DataFrame([[ get_type(frmt), frmt ] + calc(Bytes, part1, part2, part3, frmt, mode=\"G8S\")], columns = G8S.columns ))"
   ]
  },
  {
   "cell_type": "code",
   "execution_count": 25,
   "metadata": {},
   "outputs": [],
   "source": [
    "del SOS, EOI, idats, lists, datas, frames\n",
    "\n",
    "import dill\n",
    "dill.dump_session('dataframes.pkl')"
   ]
  },
  {
   "cell_type": "markdown",
   "metadata": {},
   "source": [
    "---"
   ]
  },
  {
   "cell_type": "markdown",
   "metadata": {},
   "source": [
    "# 🤖 Training\n",
    "_[> Back to contents](#Contents:)_"
   ]
  },
  {
   "cell_type": "markdown",
   "metadata": {},
   "source": [
    "Models are built using every algorithm and are trained based on every DataFrame specified. For each case there are two models: one with default settings and one with hyperparameters recommended by `RandomizedSearchCV`. The total number of models is 70 _(7 DataFrames * 5 Algorithms * 2 Sets of hyperparameters)_."
   ]
  },
  {
   "cell_type": "code",
   "execution_count": 1,
   "metadata": {},
   "outputs": [],
   "source": [
    "import dill\n",
    "dill.load_session('dataframes.pkl')"
   ]
  },
  {
   "cell_type": "code",
   "execution_count": 2,
   "metadata": {},
   "outputs": [],
   "source": [
    "from sklearn.model_selection import train_test_split     # Splits data into train & test sets\n",
    "from sklearn.metrics import accuracy_score               # Accuracy score\n",
    "from sklearn.model_selection import RandomizedSearchCV   # Randomized search on hyperparameters\n",
    "from sklearn.ensemble import RandomForestClassifier      # Random Forest Classifier\n",
    "from sklearn.neighbors import KNeighborsClassifier       # KNN Classifier\n",
    "from xgboost import XGBClassifier                        # XGBoost Classifier\n",
    "from lightgbm import LGBMClassifier                      # LightGBM Classifier\n",
    "from catboost import CatBoostClassifier                  # CatBoost Classifier\n",
    "from catboost import Pool                                # Dataset processing for CatBoost\n",
    "from lightgbm import log_evaluation                      # \n",
    "from sklearn import preprocessing                        # Encodes target variables"
   ]
  },
  {
   "cell_type": "code",
   "execution_count": 3,
   "metadata": {},
   "outputs": [
    {
     "data": {
      "text/plain": [
       "LabelEncoder()"
      ]
     },
     "execution_count": 3,
     "metadata": {},
     "output_type": "execute_result"
    }
   ],
   "source": [
    "leType = preprocessing.LabelEncoder()\n",
    "leType.fit(\"Image Video Audio Executable\".split())"
   ]
  },
  {
   "cell_type": "code",
   "execution_count": 4,
   "metadata": {},
   "outputs": [],
   "source": [
    "dataframes = [\"S\", \"G4\", \"G6\", \"G8\", \"G4S\", \"G6S\", \"G8S\"]\n",
    "\n",
    "for df in dataframes:\n",
    "    \n",
    "    # Creation of 2 sets: data to predict (y) & data to classify with (x)\n",
    "    exec( f\"x{df} = {df}.drop(columns=['Type','Format']).values\" )\n",
    "    exec( f\"y{df} = {df}['Type'].values\" )\n",
    "    exec( f\"y{df} = leType.transform(y{df})\" )\n",
    "    \n",
    "    # Splitting each set into 2 new sets: training & validation\n",
    "    exec( f\"x{df}_train, x{df}_valid, y{df}_train, y{df}_valid = train_test_split(x{df}, y{df}, test_size=0.1, random_state=42)\" )\n",
    "    exec( f\"dataset{df}  = Pool(x{df}_train, y{df}_train)\" )\n",
    "    exec( f\"evalset{df} = [(x{df}_valid, y{df}_valid)]\" )"
   ]
  },
  {
   "cell_type": "markdown",
   "metadata": {},
   "source": [
    "## Random Forest\n",
    "🔗 Link: [Random Forest Classifier](https://scikit-learn.org/stable/modules/generated/sklearn.ensemble.RandomForestClassifier.html)"
   ]
  },
  {
   "cell_type": "code",
   "execution_count": 5,
   "metadata": {},
   "outputs": [
    {
     "name": "stderr",
     "output_type": "stream",
     "text": [
      "DataFrame: 100%|▬▬▬▬▬▬▬▬▬▬▬▬▬▬▬▬▬▬▬▬▬▬▬▬▬▬▬▬▬▬▬▬▬▬▬▬▬▬▬▬▬▬▬▬▬▬▬▬▬▬| 7/7 [00:20<00:00,  2.89s/it]\n"
     ]
    }
   ],
   "source": [
    "for df in tqdm(dataframes, desc='DataFrame'):\n",
    "    exec( f\"rfc{df} = RandomForestClassifier()\" )\n",
    "    exec( f\"rfc{df}.fit(x{df}_train, y{df}_train)\" )\n",
    "\n",
    "    exec( f\"rfcValAcc{df}   = accuracy_score(y{df}_valid, rfc{df}.predict(x{df}_valid))\" )\n",
    "    exec( f\"rfcTrainAcc{df} = accuracy_score(y{df}_train, rfc{df}.predict(x{df}_train))\" )"
   ]
  },
  {
   "cell_type": "markdown",
   "metadata": {},
   "source": [
    "#### Random Forest with recommended hyperparameters"
   ]
  },
  {
   "cell_type": "code",
   "execution_count": 6,
   "metadata": {},
   "outputs": [
    {
     "name": "stderr",
     "output_type": "stream",
     "text": [
      "DataFrame: 100%|▬▬▬▬▬▬▬▬▬▬▬▬▬▬▬▬▬▬▬▬▬▬▬▬▬▬▬▬▬▬▬▬▬▬▬▬▬▬▬▬▬▬▬▬▬▬▬▬▬▬| 7/7 [06:04<00:00, 52.04s/it]\n"
     ]
    }
   ],
   "source": [
    "RFC = RandomForestClassifier()\n",
    "\n",
    "params={\n",
    "    'max_depth':        [2,5,7,10,15],\n",
    "    'n_estimators':     [25,50,75,100,125,150],\n",
    "    'min_samples_leaf': [1,2,5,7,10]\n",
    "}\n",
    "\n",
    "\n",
    "for df in tqdm(dataframes, desc='DataFrame'):\n",
    "    exec( f\"rfcRec{df} = RandomizedSearchCV(RFC, param_distributions=params)\" )\n",
    "    exec( f\"rfcRec{df}.fit(x{df}_train, y{df}_train)\" )\n",
    "    \n",
    "    exec( f\"rfcRecValAcc{df}   = accuracy_score(y{df}_valid, rfcRec{df}.predict(x{df}_valid))\" )\n",
    "    exec( f\"rfcRecTrainAcc{df} = accuracy_score(y{df}_train, rfcRec{df}.predict(x{df}_train))\" )"
   ]
  },
  {
   "cell_type": "code",
   "execution_count": 7,
   "metadata": {},
   "outputs": [
    {
     "name": "stdout",
     "output_type": "stream",
     "text": [
      "[S]\tRecommended params:\t {'n_estimators': 75, 'min_samples_leaf': 2, 'max_depth': 10}\n",
      "[G4]\tRecommended params:\t {'n_estimators': 75, 'min_samples_leaf': 1, 'max_depth': 10}\n",
      "[G6]\tRecommended params:\t {'n_estimators': 150, 'min_samples_leaf': 2, 'max_depth': 15}\n",
      "[G8]\tRecommended params:\t {'n_estimators': 150, 'min_samples_leaf': 1, 'max_depth': 15}\n",
      "[G4S]\tRecommended params:\t {'n_estimators': 50, 'min_samples_leaf': 7, 'max_depth': 15}\n",
      "[G6S]\tRecommended params:\t {'n_estimators': 125, 'min_samples_leaf': 1, 'max_depth': 10}\n",
      "[G8S]\tRecommended params:\t {'n_estimators': 100, 'min_samples_leaf': 2, 'max_depth': 15}\n"
     ]
    }
   ],
   "source": [
    "for df in dataframes:\n",
    "    exec( f\"print('[{df}]\\tRecommended params:\\t', rfcRec{df}.best_params_)\" )"
   ]
  },
  {
   "cell_type": "markdown",
   "metadata": {},
   "source": [
    "## K-Nearest Neighbors\n",
    "🔗 Link: [KNN](https://scikit-learn.org/stable/modules/generated/sklearn.neighbors.KNeighborsClassifier.html)"
   ]
  },
  {
   "cell_type": "code",
   "execution_count": 8,
   "metadata": {},
   "outputs": [
    {
     "name": "stderr",
     "output_type": "stream",
     "text": [
      "DataFrame: 100%|▬▬▬▬▬▬▬▬▬▬▬▬▬▬▬▬▬▬▬▬▬▬▬▬▬▬▬▬▬▬▬▬▬▬▬▬▬▬▬▬▬▬▬▬▬▬▬▬▬▬| 7/7 [00:18<00:00,  2.68s/it]\n"
     ]
    }
   ],
   "source": [
    "for df in tqdm(dataframes, desc='DataFrame'):\n",
    "    exec( f\"knn{df} = KNeighborsClassifier()\" )\n",
    "    exec( f\"knn{df}.fit(x{df}_train, y{df}_train)\" )\n",
    "\n",
    "    exec( f\"knnValAcc{df}   = accuracy_score(y{df}_valid, knn{df}.predict(x{df}_valid))\" )\n",
    "    exec( f\"knnTrainAcc{df} = accuracy_score(y{df}_train, knn{df}.predict(x{df}_train))\" )"
   ]
  },
  {
   "cell_type": "markdown",
   "metadata": {},
   "source": [
    "#### K-Nearest Neighbors with recommended hyperparameters"
   ]
  },
  {
   "cell_type": "code",
   "execution_count": 9,
   "metadata": {},
   "outputs": [
    {
     "name": "stderr",
     "output_type": "stream",
     "text": [
      "DataFrame: 100%|▬▬▬▬▬▬▬▬▬▬▬▬▬▬▬▬▬▬▬▬▬▬▬▬▬▬▬▬▬▬▬▬▬▬▬▬▬▬▬▬▬▬▬▬▬▬▬▬▬▬| 7/7 [02:38<00:00, 22.63s/it]\n"
     ]
    }
   ],
   "source": [
    "KNN = KNeighborsClassifier()\n",
    "\n",
    "params={\n",
    "    'leaf_size':     [10,20,30,40,50],\n",
    "    'n_neighbors':   [3,4,5,6,7,8,9,10]\n",
    "}\n",
    "\n",
    "\n",
    "for df in tqdm(dataframes, desc='DataFrame'):\n",
    "    exec( f\"knnRec{df} = RandomizedSearchCV(KNN, param_distributions=params)\" )\n",
    "    exec( f\"knnRec{df}.fit(x{df}_train, y{df}_train)\" )\n",
    "    \n",
    "    exec( f\"knnRecValAcc{df}   = accuracy_score(y{df}_valid, knnRec{df}.predict(x{df}_valid))\" )\n",
    "    exec( f\"knnRecTrainAcc{df} = accuracy_score(y{df}_train, knnRec{df}.predict(x{df}_train))\" )"
   ]
  },
  {
   "cell_type": "code",
   "execution_count": 10,
   "metadata": {},
   "outputs": [
    {
     "name": "stdout",
     "output_type": "stream",
     "text": [
      "[S]\tRecommended params:\t {'n_neighbors': 5, 'leaf_size': 40}\n",
      "[G4]\tRecommended params:\t {'n_neighbors': 3, 'leaf_size': 40}\n",
      "[G6]\tRecommended params:\t {'n_neighbors': 3, 'leaf_size': 40}\n",
      "[G8]\tRecommended params:\t {'n_neighbors': 3, 'leaf_size': 20}\n",
      "[G4S]\tRecommended params:\t {'n_neighbors': 4, 'leaf_size': 10}\n",
      "[G6S]\tRecommended params:\t {'n_neighbors': 3, 'leaf_size': 10}\n",
      "[G8S]\tRecommended params:\t {'n_neighbors': 5, 'leaf_size': 50}\n"
     ]
    }
   ],
   "source": [
    "for df in dataframes:\n",
    "    exec( f\"print('[{df}]\\tRecommended params:\\t', knnRec{df}.best_params_)\" )"
   ]
  },
  {
   "cell_type": "markdown",
   "metadata": {},
   "source": [
    "## XGBoost\n",
    "🔗 Link: [XGBoost](https://github.com/dmlc/xgboost/)"
   ]
  },
  {
   "cell_type": "code",
   "execution_count": 11,
   "metadata": {},
   "outputs": [
    {
     "name": "stderr",
     "output_type": "stream",
     "text": [
      "DataFrame: 100%|▬▬▬▬▬▬▬▬▬▬▬▬▬▬▬▬▬▬▬▬▬▬▬▬▬▬▬▬▬▬▬▬▬▬▬▬▬▬▬▬▬▬▬▬▬▬▬▬▬▬| 7/7 [00:20<00:00,  2.99s/it]\n"
     ]
    }
   ],
   "source": [
    "for df in tqdm(dataframes, desc='DataFrame'):\n",
    "    exec( f\"xgb{df} = XGBClassifier(tree_method='gpu_hist', predictor='gpu_predictor', eval_metric='mlogloss')\" )\n",
    "    exec( f\"xgb{df}.fit(x{df}_train, y{df}_train, eval_set=evalset{df}, verbose=False)\" )\n",
    "\n",
    "    exec( f\"xgbValAcc{df}   = accuracy_score(y{df}_valid, xgb{df}.predict(x{df}_valid))\" )\n",
    "    exec( f\"xgbTrainAcc{df} = accuracy_score(y{df}_train, xgb{df}.predict(x{df}_train))\" )"
   ]
  },
  {
   "cell_type": "markdown",
   "metadata": {},
   "source": [
    "#### XGBoost with recommended hyperparameters"
   ]
  },
  {
   "cell_type": "code",
   "execution_count": 12,
   "metadata": {},
   "outputs": [
    {
     "name": "stderr",
     "output_type": "stream",
     "text": [
      "DataFrame: 100%|▬▬▬▬▬▬▬▬▬▬▬▬▬▬▬▬▬▬▬▬▬▬▬▬▬▬▬▬▬▬▬▬▬▬▬▬▬▬▬▬▬▬▬▬▬▬▬▬▬▬| 7/7 [1:26:24<00:00, 740.68s/it]\n"
     ]
    }
   ],
   "source": [
    "XGB = XGBClassifier(tree_method='gpu_hist', predictor='gpu_predictor', eval_metric='mlogloss')\n",
    "\n",
    "params={\n",
    "    'max_depth':        [2,5,7,10],\n",
    "    'max_leaves':       [16,32,64,96],\n",
    "    'n_estimators':     [100,250,500,750,1000],\n",
    "    'learning_rate':    [0.01,0.025,0.05,0.075,0.1]\n",
    "}\n",
    "\n",
    "\n",
    "for df in tqdm(dataframes, desc='DataFrame'):\n",
    "    exec( f\"xgbRec{df} = RandomizedSearchCV(XGB, param_distributions=params)\" )\n",
    "    exec( f\"xgbRec{df}.fit(x{df}_train, y{df}_train, eval_set=evalset{df}, verbose=False)\" )\n",
    "    \n",
    "    exec( f\"xgbRecValAcc{df}   = accuracy_score(y{df}_valid, xgbRec{df}.predict(x{df}_valid))\" )\n",
    "    exec( f\"xgbRecTrainAcc{df} = accuracy_score(y{df}_train, xgbRec{df}.predict(x{df}_train))\" )"
   ]
  },
  {
   "cell_type": "code",
   "execution_count": 13,
   "metadata": {},
   "outputs": [
    {
     "name": "stdout",
     "output_type": "stream",
     "text": [
      "[S]\tRecommended params:\t {'n_estimators': 750, 'max_leaves': 32, 'max_depth': 10, 'learning_rate': 0.075}\n",
      "[G4]\tRecommended params:\t {'n_estimators': 500, 'max_leaves': 16, 'max_depth': 10, 'learning_rate': 0.1}\n",
      "[G6]\tRecommended params:\t {'n_estimators': 500, 'max_leaves': 32, 'max_depth': 7, 'learning_rate': 0.1}\n",
      "[G8]\tRecommended params:\t {'n_estimators': 750, 'max_leaves': 32, 'max_depth': 5, 'learning_rate': 0.1}\n",
      "[G4S]\tRecommended params:\t {'n_estimators': 750, 'max_leaves': 32, 'max_depth': 7, 'learning_rate': 0.075}\n",
      "[G6S]\tRecommended params:\t {'n_estimators': 500, 'max_leaves': 16, 'max_depth': 5, 'learning_rate': 0.075}\n",
      "[G8S]\tRecommended params:\t {'n_estimators': 750, 'max_leaves': 16, 'max_depth': 7, 'learning_rate': 0.1}\n"
     ]
    }
   ],
   "source": [
    "for df in dataframes:\n",
    "    exec( f\"print('[{df}]\\tRecommended params:\\t', xgbRec{df}.best_params_)\" )"
   ]
  },
  {
   "cell_type": "markdown",
   "metadata": {},
   "source": [
    "## LightGBM\n",
    "🔗 Link: [LightGBM](https://github.com/Microsoft/LightGBM/)"
   ]
  },
  {
   "cell_type": "code",
   "execution_count": 14,
   "metadata": {},
   "outputs": [
    {
     "name": "stderr",
     "output_type": "stream",
     "text": [
      "DataFrame: 100%|▬▬▬▬▬▬▬▬▬▬▬▬▬▬▬▬▬▬▬▬▬▬▬▬▬▬▬▬▬▬▬▬▬▬▬▬▬▬▬▬▬▬▬▬▬▬▬▬▬▬| 7/7 [00:12<00:00,  1.73s/it]\n"
     ]
    }
   ],
   "source": [
    "for df in tqdm(dataframes, desc='DataFrame'):\n",
    "    exec( f\"lgbm{df} = LGBMClassifier()\" )\n",
    "    exec( f\"lgbm{df}.fit(x{df}_train, y{df}_train, eval_metric='logloss', eval_set=evalset{df}, callbacks=[log_evaluation(period=0)])\" )\n",
    "\n",
    "    exec( f\"lgbmValAcc{df}   = accuracy_score(y{df}_valid, lgbm{df}.predict(x{df}_valid))\" )\n",
    "    exec( f\"lgbmTrainAcc{df} = accuracy_score(y{df}_train, lgbm{df}.predict(x{df}_train))\" )"
   ]
  },
  {
   "cell_type": "markdown",
   "metadata": {},
   "source": [
    "#### LGBM with recommended hyperparameters"
   ]
  },
  {
   "cell_type": "code",
   "execution_count": 15,
   "metadata": {},
   "outputs": [
    {
     "name": "stderr",
     "output_type": "stream",
     "text": [
      "DataFrame: 100%|▬▬▬▬▬▬▬▬▬▬▬▬▬▬▬▬▬▬▬▬▬▬▬▬▬▬▬▬▬▬▬▬▬▬▬▬▬▬▬▬▬▬▬▬▬▬▬▬▬▬| 7/7 [23:53<00:00, 204.80s/it]\n"
     ]
    }
   ],
   "source": [
    "LGBM = LGBMClassifier()\n",
    "\n",
    "params={\n",
    "    'max_depth':        [2,5,7,10],\n",
    "    'num_leaves':       [16,32,64,96],\n",
    "    'n_estimators':     [100,250,500,750,1000],\n",
    "    'learning_rate':    [0.01,0.025,0.05,0.075,0.1]\n",
    "}\n",
    "\n",
    "\n",
    "for df in tqdm(dataframes, desc='DataFrame'):\n",
    "    exec( f\"lgbmRec{df} = RandomizedSearchCV(LGBM, param_distributions=params)\" )\n",
    "    exec( f\"lgbmRec{df}.fit(x{df}_train, y{df}_train, eval_set=evalset{df}, callbacks=[log_evaluation(period=0)])\" )\n",
    "    \n",
    "    exec( f\"lgbmRecValAcc{df}   = accuracy_score(y{df}_valid, lgbmRec{df}.predict(x{df}_valid))\" )\n",
    "    exec( f\"lgbmRecTrainAcc{df} = accuracy_score(y{df}_train, lgbmRec{df}.predict(x{df}_train))\" )"
   ]
  },
  {
   "cell_type": "code",
   "execution_count": 16,
   "metadata": {},
   "outputs": [
    {
     "name": "stdout",
     "output_type": "stream",
     "text": [
      "[S]\tRecommended params:\t {'num_leaves': 16, 'n_estimators': 250, 'max_depth': 10, 'learning_rate': 0.075}\n",
      "[G4]\tRecommended params:\t {'num_leaves': 16, 'n_estimators': 750, 'max_depth': 10, 'learning_rate': 0.1}\n",
      "[G6]\tRecommended params:\t {'num_leaves': 16, 'n_estimators': 500, 'max_depth': 5, 'learning_rate': 0.1}\n",
      "[G8]\tRecommended params:\t {'num_leaves': 16, 'n_estimators': 1000, 'max_depth': 5, 'learning_rate': 0.075}\n",
      "[G4S]\tRecommended params:\t {'num_leaves': 64, 'n_estimators': 1000, 'max_depth': 5, 'learning_rate': 0.075}\n",
      "[G6S]\tRecommended params:\t {'num_leaves': 16, 'n_estimators': 250, 'max_depth': 10, 'learning_rate': 0.1}\n",
      "[G8S]\tRecommended params:\t {'num_leaves': 32, 'n_estimators': 1000, 'max_depth': 10, 'learning_rate': 0.075}\n"
     ]
    }
   ],
   "source": [
    "for df in dataframes:\n",
    "    exec( f\"print('[{df}]\\tRecommended params:\\t', lgbmRec{df}.best_params_)\" )"
   ]
  },
  {
   "cell_type": "markdown",
   "metadata": {},
   "source": [
    "## CatBoost\n",
    "🔗 Link: [CatBoost](https://github.com/catboost/catboost/)"
   ]
  },
  {
   "cell_type": "code",
   "execution_count": 17,
   "metadata": {},
   "outputs": [
    {
     "name": "stderr",
     "output_type": "stream",
     "text": [
      "DataFrame: 100%|▬▬▬▬▬▬▬▬▬▬▬▬▬▬▬▬▬▬▬▬▬▬▬▬▬▬▬▬▬▬▬▬▬▬▬▬▬▬▬▬▬▬▬▬▬▬▬▬▬▬| 7/7 [01:00<00:00,  8.65s/it]\n"
     ]
    }
   ],
   "source": [
    "for df in tqdm(dataframes, desc='DataFrame'):\n",
    "    exec( f\"cbc{df} = CatBoostClassifier(task_type='GPU')\" )\n",
    "    exec( f\"cbc{df}.fit(x{df}_train, y{df}_train, use_best_model=True, eval_set=dataset{df}, verbose=False)\" )\n",
    "\n",
    "    exec( f\"cbcValAcc{df}   = accuracy_score(y{df}_valid, cbc{df}.predict(x{df}_valid))\" )\n",
    "    exec( f\"cbcTrainAcc{df} = accuracy_score(y{df}_train, cbc{df}.predict(x{df}_train))\" )"
   ]
  },
  {
   "cell_type": "markdown",
   "metadata": {},
   "source": [
    "#### CatBoost with recommended hyperparameters"
   ]
  },
  {
   "cell_type": "code",
   "execution_count": 18,
   "metadata": {},
   "outputs": [
    {
     "name": "stderr",
     "output_type": "stream",
     "text": [
      "DataFrame: 100%|▬▬▬▬▬▬▬▬▬▬▬▬▬▬▬▬▬▬▬▬▬▬▬▬▬▬▬▬▬▬▬▬▬▬▬▬▬▬▬▬▬▬▬▬▬▬▬▬▬▬| 7/7 [42:44<00:00, 366.40s/it]\n"
     ]
    }
   ],
   "source": [
    "CBC = CatBoostClassifier(task_type='GPU')\n",
    "\n",
    "params={\n",
    "    'max_depth':        [2,5,7,10],\n",
    "    'n_estimators':     [100,250,500,750,1000],\n",
    "    'learning_rate':    [0.01,0.025,0.05,0.075,0.1]\n",
    "}\n",
    "\n",
    "\n",
    "for df in tqdm(dataframes, desc='DataFrame'):\n",
    "    exec( f\"cbcRec{df} = RandomizedSearchCV(CBC, param_distributions=params)\" )\n",
    "    exec( f\"cbcRec{df}.fit(x{df}_train, y{df}_train, use_best_model=True, eval_set=evalset{df}, verbose=False)\" )\n",
    "    \n",
    "    exec( f\"cbcRecValAcc{df}   = accuracy_score(y{df}_valid, cbcRec{df}.predict(x{df}_valid))\" )\n",
    "    exec( f\"cbcRecTrainAcc{df} = accuracy_score(y{df}_train, cbcRec{df}.predict(x{df}_train))\" )"
   ]
  },
  {
   "cell_type": "code",
   "execution_count": 19,
   "metadata": {},
   "outputs": [
    {
     "name": "stdout",
     "output_type": "stream",
     "text": [
      "[S]\tRecommended params:\t {'n_estimators': 1000, 'max_depth': 7, 'learning_rate': 0.1}\n",
      "[G4]\tRecommended params:\t {'n_estimators': 500, 'max_depth': 7, 'learning_rate': 0.1}\n",
      "[G6]\tRecommended params:\t {'n_estimators': 750, 'max_depth': 5, 'learning_rate': 0.1}\n",
      "[G8]\tRecommended params:\t {'n_estimators': 1000, 'max_depth': 5, 'learning_rate': 0.1}\n",
      "[G4S]\tRecommended params:\t {'n_estimators': 1000, 'max_depth': 2, 'learning_rate': 0.05}\n",
      "[G6S]\tRecommended params:\t {'n_estimators': 750, 'max_depth': 5, 'learning_rate': 0.1}\n",
      "[G8S]\tRecommended params:\t {'n_estimators': 500, 'max_depth': 7, 'learning_rate': 0.075}\n"
     ]
    }
   ],
   "source": [
    "for df in dataframes:\n",
    "    exec( f\"print('[{df}]\\tRecommended params:\\t', cbcRec{df}.best_params_)\" )"
   ]
  },
  {
   "cell_type": "code",
   "execution_count": 20,
   "metadata": {
    "scrolled": true
   },
   "outputs": [],
   "source": [
    "del datasetS, datasetG4, datasetG6, datasetG8, datasetG4S, datasetG6S, datasetG8S\n",
    "del evalsetS, evalsetG4, evalsetG6, evalsetG8, evalsetG4S, evalsetG6S, evalsetG8S\n",
    "\n",
    "import dill\n",
    "dill.dump_session('models.pkl')"
   ]
  },
  {
   "cell_type": "markdown",
   "metadata": {},
   "source": [
    "---"
   ]
  },
  {
   "cell_type": "markdown",
   "metadata": {},
   "source": [
    "# 📊 Comparison\n",
    "_[> Back to contents](#Contents:)_"
   ]
  },
  {
   "cell_type": "markdown",
   "metadata": {},
   "source": [
    "All models trained based on different DataFrames are grouped depending on the algorithm used and are compared with each other. The models with default settings are compared with the ones with recommended hyperparameters. Every model's accuracy of predictions on validation data and accuracy of predictions on train data are also compared with each other."
   ]
  },
  {
   "cell_type": "code",
   "execution_count": 21,
   "metadata": {
    "scrolled": false
   },
   "outputs": [],
   "source": [
    "import seaborn as sn\n",
    "from numpy import newaxis\n",
    "import matplotlib.pyplot as plt\n",
    "from sklearn.metrics import confusion_matrix"
   ]
  },
  {
   "cell_type": "code",
   "execution_count": 22,
   "metadata": {},
   "outputs": [
    {
     "data": {
      "text/html": [
       "<svg  width=\"330\" height=\"55\"><rect x=\"0\" y=\"0\" width=\"55\" height=\"55\" style=\"fill:#f5efe6;stroke-width:2;stroke:rgb(255,255,255)\"/><rect x=\"55\" y=\"0\" width=\"55\" height=\"55\" style=\"fill:#f6dee3;stroke-width:2;stroke:rgb(255,255,255)\"/><rect x=\"110\" y=\"0\" width=\"55\" height=\"55\" style=\"fill:#e9d2ee;stroke-width:2;stroke:rgb(255,255,255)\"/><rect x=\"165\" y=\"0\" width=\"55\" height=\"55\" style=\"fill:#c6d1ed;stroke-width:2;stroke:rgb(255,255,255)\"/><rect x=\"220\" y=\"0\" width=\"55\" height=\"55\" style=\"fill:#a8d5cf;stroke-width:2;stroke:rgb(255,255,255)\"/><rect x=\"275\" y=\"0\" width=\"55\" height=\"55\" style=\"fill:#a5cea3;stroke-width:2;stroke:rgb(255,255,255)\"/></svg>"
      ],
      "text/plain": [
       "[(0.9606673315011522, 0.9386660821471728, 0.9014843466101898),\n",
       " (0.9650791968125461, 0.8718625177766127, 0.8912563656651196),\n",
       " (0.9144322710296299, 0.8235878418953423, 0.931806264970016),\n",
       " (0.775683509263619, 0.8214698728227631, 0.9294144419726944),\n",
       " (0.6592653869469826, 0.8359820945603558, 0.8125726947429762),\n",
       " (0.648385100679158, 0.8075016938524312, 0.6384979693454241)]"
      ]
     },
     "execution_count": 22,
     "metadata": {},
     "output_type": "execute_result"
    }
   ],
   "source": [
    "params = 'ch:start=2,rot=4,dark=0.74,light=0.94'\n",
    "palette = sn.color_palette(params, as_cmap=True)\n",
    "sn.color_palette(params)"
   ]
  },
  {
   "cell_type": "code",
   "execution_count": 23,
   "metadata": {},
   "outputs": [],
   "source": [
    "types = [\"IMG\",\"VID\",\"AUD\",\"EXE\"]\n",
    "\n",
    "def compareHeatmaps(model, modelRec, X, Y):\n",
    "    \n",
    "    prediction     = model.predict(X)\n",
    "    predictionRec = modelRec.predict(X)\n",
    "    \n",
    "    matrix     = confusion_matrix(Y, prediction)\n",
    "    matrixRec = confusion_matrix(Y, predictionRec)\n",
    "    matrix     = pd.DataFrame(matrix, index=types, columns=types)\n",
    "    matrixRec = pd.DataFrame(matrixRec, index=types, columns=types)\n",
    "    matrix     = matrix.astype('float') / matrix.sum(axis=1)\n",
    "    matrixRec = matrixRec.astype('float') / matrixRec.sum(axis=1)\n",
    "    \n",
    "    fig, (ax,axRec) = plt.subplots(ncols=2)\n",
    "    fig.subplots_adjust(wspace=0.042)\n",
    "    \n",
    "    sn.heatmap(matrix, cmap=palette, annot=True, fmt='.0%', linewidths=0.5, ax=ax, cbar=False)\n",
    "    sn.heatmap(matrixRec, cmap=palette, annot=True, fmt='.0%', linewidths=0.5, ax=axRec, cbar=False)\n",
    "    \n",
    "\n",
    "    ax.tick_params(rotation=0)\n",
    "    axRec.tick_params(rotation=0)\n",
    "    axRec.yaxis.tick_right()\n",
    "    \n",
    "    \n",
    "    fig.text(0.415, 0.000, \"Guessed type\", size=12, weight='bold')\n",
    "    fig.text(0.010, 0.415, \"True type\",    size=12, weight='bold', rotation='vertical')\n",
    "    ax.set_title(\"Default params\",   size=14, pad=8)\n",
    "    axRec.set_title(\"Recommended params\", size=14, pad=8)\n",
    "    \n",
    "    \n",
    "    plt.show()"
   ]
  },
  {
   "cell_type": "code",
   "execution_count": 24,
   "metadata": {},
   "outputs": [],
   "source": [
    "def showAccuracy(alg):\n",
    "    for df in dataframes:\n",
    "        exec( f\"print('[{df}] Validation accuracy:', {alg}ValAcc{df}  )\" )\n",
    "        exec( f\"print('[{df}] Train accuracy:',      {alg}TrainAcc{df})\" )\n",
    "        exec( f\"print('[{df}] [Recommended] Validation accuracy:', {alg}RecValAcc{df}  )\" )\n",
    "        exec( f\"print('[{df}] [Recommended] Train accuracy:',      {alg}RecTrainAcc{df})\" )\n",
    "        print('\\n')"
   ]
  },
  {
   "cell_type": "markdown",
   "metadata": {},
   "source": [
    "## Random Forest"
   ]
  },
  {
   "cell_type": "code",
   "execution_count": 25,
   "metadata": {},
   "outputs": [
    {
     "name": "stdout",
     "output_type": "stream",
     "text": [
      "[S] Validation accuracy: 0.9291666666666667\n",
      "[S] Train accuracy: 0.9999074074074074\n",
      "[S] [Recommended] Validation accuracy: 0.895\n",
      "[S] [Recommended] Train accuracy: 0.9481481481481482\n",
      "\n",
      "\n",
      "[G4] Validation accuracy: 0.9341666666666667\n",
      "[G4] Train accuracy: 0.9944444444444445\n",
      "[G4] [Recommended] Validation accuracy: 0.9116666666666666\n",
      "[G4] [Recommended] Train accuracy: 0.9371296296296296\n",
      "\n",
      "\n",
      "[G6] Validation accuracy: 0.9141666666666667\n",
      "[G6] Train accuracy: 0.9940740740740741\n",
      "[G6] [Recommended] Validation accuracy: 0.9191666666666667\n",
      "[G6] [Recommended] Train accuracy: 0.962037037037037\n",
      "\n",
      "\n",
      "[G8] Validation accuracy: 0.9208333333333333\n",
      "[G8] Train accuracy: 0.9929629629629629\n",
      "[G8] [Recommended] Validation accuracy: 0.925\n",
      "[G8] [Recommended] Train accuracy: 0.9726851851851852\n",
      "\n",
      "\n",
      "[G4S] Validation accuracy: 0.9425\n",
      "[G4S] Train accuracy: 0.999537037037037\n",
      "[G4S] [Recommended] Validation accuracy: 0.9375\n",
      "[G4S] [Recommended] Train accuracy: 0.9594444444444444\n",
      "\n",
      "\n",
      "[G6S] Validation accuracy: 0.9441666666666667\n",
      "[G6S] Train accuracy: 0.9993518518518518\n",
      "[G6S] [Recommended] Validation accuracy: 0.905\n",
      "[G6S] [Recommended] Train accuracy: 0.9296296296296296\n",
      "\n",
      "\n",
      "[G8S] Validation accuracy: 0.9308333333333333\n",
      "[G8S] Train accuracy: 0.9993518518518518\n",
      "[G8S] [Recommended] Validation accuracy: 0.9233333333333333\n",
      "[G8S] [Recommended] Train accuracy: 0.9746296296296296\n",
      "\n",
      "\n"
     ]
    }
   ],
   "source": [
    "showAccuracy('rfc')"
   ]
  },
  {
   "cell_type": "code",
   "execution_count": 26,
   "metadata": {},
   "outputs": [
    {
     "data": {
      "image/png": "[encoded data removed]",
      "text/plain": [
       "<Figure size 640x480 with 2 Axes>"
      ]
     },
     "metadata": {},
     "output_type": "display_data"
    }
   ],
   "source": [
    "compareHeatmaps(rfcG8, rfcRecG8, xG8_valid, yG8_valid)"
   ]
  },
  {
   "cell_type": "markdown",
   "metadata": {},
   "source": [
    "## K-Nearest Neighbors"
   ]
  },
  {
   "cell_type": "code",
   "execution_count": 27,
   "metadata": {},
   "outputs": [
    {
     "name": "stdout",
     "output_type": "stream",
     "text": [
      "[S] Validation accuracy: 0.7641666666666667\n",
      "[S] Train accuracy: 0.8510185185185185\n",
      "[S] [Recommended] Validation accuracy: 0.7641666666666667\n",
      "[S] [Recommended] Train accuracy: 0.8510185185185185\n",
      "\n",
      "\n",
      "[G4] Validation accuracy: 0.8008333333333333\n",
      "[G4] Train accuracy: 0.8517592592592592\n",
      "[G4] [Recommended] Validation accuracy: 0.8008333333333333\n",
      "[G4] [Recommended] Train accuracy: 0.8517592592592592\n",
      "\n",
      "\n",
      "[G6] Validation accuracy: 0.7866666666666666\n",
      "[G6] Train accuracy: 0.8543518518518518\n",
      "[G6] [Recommended] Validation accuracy: 0.8083333333333333\n",
      "[G6] [Recommended] Train accuracy: 0.894537037037037\n",
      "\n",
      "\n",
      "[G8] Validation accuracy: 0.7683333333333333\n",
      "[G8] Train accuracy: 0.8298148148148148\n",
      "[G8] [Recommended] Validation accuracy: 0.7816666666666666\n",
      "[G8] [Recommended] Train accuracy: 0.8655555555555555\n",
      "\n",
      "\n",
      "[G4S] Validation accuracy: 0.745\n",
      "[G4S] Train accuracy: 0.8184259259259259\n",
      "[G4S] [Recommended] Validation accuracy: 0.75\n",
      "[G4S] [Recommended] Train accuracy: 0.8629629629629629\n",
      "\n",
      "\n",
      "[G6S] Validation accuracy: 0.7975\n",
      "[G6S] Train accuracy: 0.855\n",
      "[G6S] [Recommended] Validation accuracy: 0.8066666666666666\n",
      "[G6S] [Recommended] Train accuracy: 0.8880555555555556\n",
      "\n",
      "\n",
      "[G8S] Validation accuracy: 0.81\n",
      "[G8S] Train accuracy: 0.8429629629629629\n",
      "[G8S] [Recommended] Validation accuracy: 0.8075\n",
      "[G8S] [Recommended] Train accuracy: 0.8824074074074074\n",
      "\n",
      "\n"
     ]
    }
   ],
   "source": [
    "showAccuracy('knn')"
   ]
  },
  {
   "cell_type": "code",
   "execution_count": 28,
   "metadata": {},
   "outputs": [
    {
     "data": {
      "image/png": "[encoded data removed]",
      "text/plain": [
       "<Figure size 640x480 with 2 Axes>"
      ]
     },
     "metadata": {},
     "output_type": "display_data"
    }
   ],
   "source": [
    "compareHeatmaps(knnG8, knnRecG8, xG8_valid, yG8_valid)"
   ]
  },
  {
   "cell_type": "markdown",
   "metadata": {},
   "source": [
    "## XGBoost"
   ]
  },
  {
   "cell_type": "code",
   "execution_count": 29,
   "metadata": {},
   "outputs": [
    {
     "name": "stdout",
     "output_type": "stream",
     "text": [
      "[S] Validation accuracy: 0.9608333333333333\n",
      "[S] Train accuracy: 0.9999074074074074\n",
      "[S] [Recommended] Validation accuracy: 0.9625\n",
      "[S] [Recommended] Train accuracy: 0.9999074074074074\n",
      "\n",
      "\n",
      "[G4] Validation accuracy: 0.9433333333333334\n",
      "[G4] Train accuracy: 0.9930555555555556\n",
      "[G4] [Recommended] Validation accuracy: 0.9525\n",
      "[G4] [Recommended] Train accuracy: 0.992037037037037\n",
      "\n",
      "\n",
      "[G6] Validation accuracy: 0.9166666666666666\n",
      "[G6] Train accuracy: 0.9909259259259259\n",
      "[G6] [Recommended] Validation accuracy: 0.9266666666666666\n",
      "[G6] [Recommended] Train accuracy: 0.9925925925925926\n",
      "\n",
      "\n",
      "[G8] Validation accuracy: 0.9425\n",
      "[G8] Train accuracy: 0.9912962962962963\n",
      "[G8] [Recommended] Validation accuracy: 0.9433333333333334\n",
      "[G8] [Recommended] Train accuracy: 0.9923148148148148\n",
      "\n",
      "\n",
      "[G4S] Validation accuracy: 0.9641666666666666\n",
      "[G4S] Train accuracy: 0.9994444444444445\n",
      "[G4S] [Recommended] Validation accuracy: 0.9658333333333333\n",
      "[G4S] [Recommended] Train accuracy: 0.999537037037037\n",
      "\n",
      "\n",
      "[G6S] Validation accuracy: 0.9541666666666667\n",
      "[G6S] Train accuracy: 0.9993518518518518\n",
      "[G6S] [Recommended] Validation accuracy: 0.9516666666666667\n",
      "[G6S] [Recommended] Train accuracy: 0.9964814814814815\n",
      "\n",
      "\n",
      "[G8S] Validation accuracy: 0.9483333333333334\n",
      "[G8S] Train accuracy: 0.9992592592592593\n",
      "[G8S] [Recommended] Validation accuracy: 0.9525\n",
      "[G8S] [Recommended] Train accuracy: 0.9993518518518518\n",
      "\n",
      "\n"
     ]
    }
   ],
   "source": [
    "showAccuracy('xgb')"
   ]
  },
  {
   "cell_type": "code",
   "execution_count": 30,
   "metadata": {},
   "outputs": [
    {
     "data": {
      "image/png": "[encoded data removed]",
      "text/plain": [
       "<Figure size 640x480 with 2 Axes>"
      ]
     },
     "metadata": {},
     "output_type": "display_data"
    }
   ],
   "source": [
    "compareHeatmaps(xgbG8, xgbRecG8, xG8_valid, yG8_valid)"
   ]
  },
  {
   "cell_type": "markdown",
   "metadata": {},
   "source": [
    "## LightGBM"
   ]
  },
  {
   "cell_type": "code",
   "execution_count": 31,
   "metadata": {},
   "outputs": [
    {
     "name": "stdout",
     "output_type": "stream",
     "text": [
      "[S] Validation accuracy: 0.96\n",
      "[S] Train accuracy: 0.9999074074074074\n",
      "[S] [Recommended] Validation accuracy: 0.9625\n",
      "[S] [Recommended] Train accuracy: 0.9997222222222222\n",
      "\n",
      "\n",
      "[G4] Validation accuracy: 0.9483333333333334\n",
      "[G4] Train accuracy: 0.991574074074074\n",
      "[G4] [Recommended] Validation accuracy: 0.9575\n",
      "[G4] [Recommended] Train accuracy: 0.9944444444444445\n",
      "\n",
      "\n",
      "[G6] Validation accuracy: 0.9233333333333333\n",
      "[G6] Train accuracy: 0.9880555555555556\n",
      "[G6] [Recommended] Validation accuracy: 0.9308333333333333\n",
      "[G6] [Recommended] Train accuracy: 0.9930555555555556\n",
      "\n",
      "\n",
      "[G8] Validation accuracy: 0.9391666666666667\n",
      "[G8] Train accuracy: 0.9887037037037038\n",
      "[G8] [Recommended] Validation accuracy: 0.9441666666666667\n",
      "[G8] [Recommended] Train accuracy: 0.9929629629629629\n",
      "\n",
      "\n",
      "[G4S] Validation accuracy: 0.9633333333333334\n",
      "[G4S] Train accuracy: 0.9993518518518518\n",
      "[G4S] [Recommended] Validation accuracy: 0.9658333333333333\n",
      "[G4S] [Recommended] Train accuracy: 0.9994444444444445\n",
      "\n",
      "\n",
      "[G6S] Validation accuracy: 0.95\n",
      "[G6S] Train accuracy: 0.9988888888888889\n",
      "[G6S] [Recommended] Validation accuracy: 0.9525\n",
      "[G6S] [Recommended] Train accuracy: 0.9993518518518518\n",
      "\n",
      "\n",
      "[G8S] Validation accuracy: 0.9575\n",
      "[G8S] Train accuracy: 0.9989814814814815\n",
      "[G8S] [Recommended] Validation accuracy: 0.96\n",
      "[G8S] [Recommended] Train accuracy: 0.9993518518518518\n",
      "\n",
      "\n"
     ]
    }
   ],
   "source": [
    "showAccuracy('lgbm')"
   ]
  },
  {
   "cell_type": "code",
   "execution_count": 32,
   "metadata": {},
   "outputs": [
    {
     "data": {
      "image/png": "[encoded data removed]",
      "text/plain": [
       "<Figure size 640x480 with 2 Axes>"
      ]
     },
     "metadata": {},
     "output_type": "display_data"
    }
   ],
   "source": [
    "compareHeatmaps(lgbmG8, lgbmRecG8, xG8_valid, yG8_valid)"
   ]
  },
  {
   "cell_type": "markdown",
   "metadata": {},
   "source": [
    "## CatBoost"
   ]
  },
  {
   "cell_type": "code",
   "execution_count": 33,
   "metadata": {},
   "outputs": [
    {
     "name": "stdout",
     "output_type": "stream",
     "text": [
      "[S] Validation accuracy: 0.955\n",
      "[S] Train accuracy: 0.999537037037037\n",
      "[S] [Recommended] Validation accuracy: 0.9533333333333334\n",
      "[S] [Recommended] Train accuracy: 0.9993518518518518\n",
      "\n",
      "\n",
      "[G4] Validation accuracy: 0.9466666666666667\n",
      "[G4] Train accuracy: 0.986574074074074\n",
      "[G4] [Recommended] Validation accuracy: 0.9425\n",
      "[G4] [Recommended] Train accuracy: 0.9783333333333334\n",
      "\n",
      "\n",
      "[G6] Validation accuracy: 0.9175\n",
      "[G6] Train accuracy: 0.9840740740740741\n",
      "[G6] [Recommended] Validation accuracy: 0.9141666666666667\n",
      "[G6] [Recommended] Train accuracy: 0.9641666666666666\n",
      "\n",
      "\n",
      "[G8] Validation accuracy: 0.9316666666666666\n",
      "[G8] Train accuracy: 0.9831481481481481\n",
      "[G8] [Recommended] Validation accuracy: 0.9333333333333333\n",
      "[G8] [Recommended] Train accuracy: 0.9717592592592592\n",
      "\n",
      "\n",
      "[G4S] Validation accuracy: 0.965\n",
      "[G4S] Train accuracy: 0.9987037037037036\n",
      "[G4S] [Recommended] Validation accuracy: 0.9466666666666667\n",
      "[G4S] [Recommended] Train accuracy: 0.9544444444444444\n",
      "\n",
      "\n",
      "[G6S] Validation accuracy: 0.9491666666666667\n",
      "[G6S] Train accuracy: 0.9983333333333333\n",
      "[G6S] [Recommended] Validation accuracy: 0.945\n",
      "[G6S] [Recommended] Train accuracy: 0.9860185185185185\n",
      "\n",
      "\n",
      "[G8S] Validation accuracy: 0.9433333333333334\n",
      "[G8S] Train accuracy: 0.9985185185185185\n",
      "[G8S] [Recommended] Validation accuracy: 0.9416666666666667\n",
      "[G8S] [Recommended] Train accuracy: 0.9823148148148149\n",
      "\n",
      "\n"
     ]
    }
   ],
   "source": [
    "showAccuracy('cbc')"
   ]
  },
  {
   "cell_type": "code",
   "execution_count": 34,
   "metadata": {},
   "outputs": [
    {
     "data": {
      "image/png": "[encoded data removed]",
      "text/plain": [
       "<Figure size 640x480 with 2 Axes>"
      ]
     },
     "metadata": {},
     "output_type": "display_data"
    }
   ],
   "source": [
    "compareHeatmaps(cbcG8, cbcRecG8, xG8_valid, yG8_valid)"
   ]
  },
  {
   "cell_type": "markdown",
   "metadata": {},
   "source": [
    "---"
   ]
  },
  {
   "cell_type": "markdown",
   "metadata": {},
   "source": [
    "# ✍ Testing\n",
    "_[> Back to contents](#Contents:)_"
   ]
  },
  {
   "cell_type": "code",
   "execution_count": 1,
   "metadata": {},
   "outputs": [],
   "source": [
    "import dill\n",
    "dill.load_session('models.pkl')"
   ]
  },
  {
   "cell_type": "code",
   "execution_count": 2,
   "metadata": {},
   "outputs": [],
   "source": [
    "tS   = pd.DataFrame(columns = Split)\n",
    "tG4  = pd.DataFrame(columns = NGrams)\n",
    "tG6  = pd.DataFrame(columns = NGrams)\n",
    "tG8  = pd.DataFrame(columns = NGrams)\n",
    "tG4S = pd.DataFrame(columns = Split)\n",
    "tG6S = pd.DataFrame(columns = Split)\n",
    "tG8S = pd.DataFrame(columns = Split)"
   ]
  },
  {
   "cell_type": "code",
   "execution_count": 3,
   "metadata": {},
   "outputs": [
    {
     "name": "stderr",
     "output_type": "stream",
     "text": [
      "File: 100%|▬▬▬▬▬▬▬▬▬▬▬▬▬▬▬▬▬▬▬▬▬▬▬▬▬▬▬▬▬▬▬▬▬▬▬▬▬▬▬▬▬▬▬▬▬▬▬▬▬▬| 16/16 [01:08<00:00, 4.28s/it]\n"
     ]
    }
   ],
   "source": [
    "path  = \"data_test/\"\n",
    "files = [ file for file in listdir(path) if isfile(path + file) ]\n",
    "        \n",
    "for file in tqdm(files, desc='File'):\n",
    "    \n",
    "    hexfile = hexlify(open(path + file, 'rb').read()).decode()            # hex representation\n",
    "    Bytes = [ hexfile[i:i+2] for i in range(0, len(hexfile)-1, 2) ]       # \n",
    "    \n",
    "    partSize = len(Bytes) // 3\n",
    "    part1 = Bytes[            :   partSize]\n",
    "    part2 = Bytes[   partSize : 2*partSize]\n",
    "    part3 = Bytes[ 2*partSize :           ]\n",
    "\n",
    "    tS   =   tS.append( pd.DataFrame([ calc(Bytes, part1, part2, part3, frmt, mode=\"S\"  )], columns = tS.columns   ))\n",
    "    tG4  =  tG4.append( pd.DataFrame([ calc(Bytes, part1, part2, part3, frmt, mode=\"G4\" )], columns = tG4.columns  ))\n",
    "    tG6  =  tG6.append( pd.DataFrame([ calc(Bytes, part1, part2, part3, frmt, mode=\"G6\" )], columns = tG6.columns  ))\n",
    "    tG8  =  tG8.append( pd.DataFrame([ calc(Bytes, part1, part2, part3, frmt, mode=\"G8\" )], columns = tG8.columns  ))\n",
    "    tG4S = tG4S.append( pd.DataFrame([ calc(Bytes, part1, part2, part3, frmt, mode=\"G4S\")], columns = tG4S.columns ))\n",
    "    tG6S = tG6S.append( pd.DataFrame([ calc(Bytes, part1, part2, part3, frmt, mode=\"G6S\")], columns = tG6S.columns )) \n",
    "    tG8S = tG8S.append( pd.DataFrame([ calc(Bytes, part1, part2, part3, frmt, mode=\"G8S\")], columns = tG8S.columns ))"
   ]
  },
  {
   "cell_type": "code",
   "execution_count": 4,
   "metadata": {},
   "outputs": [
    {
     "data": {
      "text/plain": [
       "['conversation.mp3',\n",
       " 'documents.bmp',\n",
       " 'door.exe',\n",
       " 'google_dino.png',\n",
       " 'map.bmp',\n",
       " 'opening.wav',\n",
       " 'puppy-attacks-toy.jpg',\n",
       " 'puppy-meme.png',\n",
       " 'python-3.7.4.exe',\n",
       " 'recording.avi',\n",
       " 'secret.bmp',\n",
       " 'steps.avi',\n",
       " 'task.wav',\n",
       " 'they.mp3',\n",
       " 'tryharder.exe',\n",
       " 'wise-puppy-in-glasses.jpg']"
      ]
     },
     "execution_count": 4,
     "metadata": {},
     "output_type": "execute_result"
    }
   ],
   "source": [
    "files"
   ]
  },
  {
   "cell_type": "code",
   "execution_count": 5,
   "metadata": {},
   "outputs": [
    {
     "data": {
      "text/plain": [
       "0.875"
      ]
     },
     "execution_count": 5,
     "metadata": {},
     "output_type": "execute_result"
    }
   ],
   "source": [
    "accuracy_score(leType.transform(['Audio','Image','Executable','Image','Image',\n",
    "                                'Audio', 'Image','Image','Executable',\n",
    "                                'Video','Image','Video','Audio',\n",
    "                                'Audio','Executable','Image'\n",
    "                                ]), knnRecG8.predict(tG8.values))"
   ]
  },
  {
   "cell_type": "code",
   "execution_count": 6,
   "metadata": {},
   "outputs": [
    {
     "data": {
      "text/plain": [
       "array(['Audio', 'Image', 'Executable', 'Image', 'Image', 'Audio', 'Image',\n",
       "       'Image', 'Executable', 'Executable', 'Image', 'Video', 'Audio',\n",
       "       'Executable', 'Executable', 'Image'], dtype='<U10')"
      ]
     },
     "execution_count": 6,
     "metadata": {},
     "output_type": "execute_result"
    }
   ],
   "source": [
    "leType.inverse_transform(knnRecG8.predict(tG8.values))"
   ]
  },
  {
   "cell_type": "markdown",
   "metadata": {},
   "source": [
    "---"
   ]
  },
  {
   "cell_type": "markdown",
   "metadata": {},
   "source": [
    "# 📚 Resources\n",
    "_[> Back to contents](#Contents:)_"
   ]
  },
  {
   "cell_type": "markdown",
   "metadata": {},
   "source": [
    "### Datasets:\n",
    "\n",
    ">`[1]` Chao Dong, Chen Change Loy, Xiaoou Tang. Accelerating the Super-Resolution Convolutional Neural Network, in Proceedings of European Conference on Computer Vision (ECCV), 2016 [arXiv:1608.00367](https://arxiv.org/abs/1608.00367)\n",
    "<br>\n",
    "\n",
    ">`[2]` Zhang Zhifei, Song Yang, and Qi Hairong. \"Age Progression/Regression by Conditional Adversarial Autoencoder\". IEEE Conference on Computer Vision and Pattern Recognition (CVPR). [arXiv:1702.08423](https://arxiv.org/abs/1702.08423), 2017\n",
    "<br>\n",
    "\n",
    ">`[3]` H. Kuehne, H. Jhuang, E. Garrote, T. Poggio, and T. Serre. HMDB: A Large Video Database for Human Motion Recognition. ICCV, 2011. [PDF](http://serre-lab.clps.brown.edu/wp-content/uploads/2012/08/Kuehne_etal_iccv11.pdf) [Bibtex](http://serre-lab.clps.brown.edu/wp-content/uploads/2013/10/Kuehne_etal_iccv11.bib)\n",
    "<br>\n",
    "\n",
    ">`[4]` Eduardo Fonseca, Manoj Plakal, Daniel P. W. Ellis, Frederic Font, Xavier Favory, and Xavier Serra, “Learning Sound Event Classifiers from Web Audio with Noisy Labels”, arXiv preprint [arXiv:1901.01189](https://arxiv.org/abs/1901.01189), 2019\n",
    "<br>\n",
    "\n",
    ">`[5]` Royi Ronen, Marian Radu, Corina Feuerstein, Elad Yom-Tov, Mansour Ahmadi. \"Microsoft Malware Classification Challenge\". [arXiv:1802.10135](https://arxiv.org/abs/1802.10135), 2018"
   ]
  },
  {
   "cell_type": "markdown",
   "metadata": {},
   "source": [
    "### Images:\n",
    "\n",
    ">`[6]` [An Audio Encryption Using Transposition Method](https://www.researchgate.net/publication/281444376_An_Audio_Encryption_Using_Transposition_Method) - Scientific Figure on ResearchGate.\n",
    "<br>\n",
    "\n",
    ">`[7]` Mp3filestructure, original by [Kim Meyrick](https://en.wikipedia.org/wiki/User:Kim_Meyrick). Traced by [Stannered](https://commons.wikimedia.org/wiki/User:Stannered) (23 Apr 2007), fixed by [Mik](https://commons.wikimedia.org/wiki/User:Mik) (20 Dec 2013). \n",
    "<br>\n",
    "\n",
    ">`[8]` Portable Executable 32 bit Structure, original by ByteBiter. Fixed by [Benhut1](https://commons.wikimedia.org/wiki/User:Benhut1) (1 Sep 2016), fixed by [Finnusertop](https://commons.wikimedia.org/wiki/User:Finnusertop) (29 Sep 2019). "
   ]
  }
 ],
 "metadata": {
  "kernelspec": {
   "display_name": "Python 3",
   "language": "python",
   "name": "python3"
  },
  "language_info": {
   "codemirror_mode": {
    "name": "ipython",
    "version": 3
   },
   "file_extension": ".py",
   "mimetype": "text/x-python",
   "name": "python",
   "nbconvert_exporter": "python",
   "pygments_lexer": "ipython3",
   "version": "3.7.4"
  }
 },
 "nbformat": 4,
 "nbformat_minor": 2
}
